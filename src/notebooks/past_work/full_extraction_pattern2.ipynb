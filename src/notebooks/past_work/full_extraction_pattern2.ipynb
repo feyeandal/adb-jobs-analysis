{
 "cells": [
  {
   "cell_type": "code",
   "execution_count": 1,
   "metadata": {},
   "outputs": [],
   "source": [
    "import os\n",
    "import requests\n",
    "import shutil\n",
    "import pandas as pd\n",
    "import time\n",
    "import random as rd"
   ]
  },
  {
   "cell_type": "code",
   "execution_count": 2,
   "metadata": {},
   "outputs": [],
   "source": [
    "import re"
   ]
  },
  {
   "cell_type": "code",
   "execution_count": 3,
   "metadata": {},
   "outputs": [],
   "source": [
    "def read_file(filepath, sheet, num_rows=None):\n",
    "    \"\"\"read the excel file into a dataframe\"\"\"\n",
    "    df = pd.read_excel(filepath, sheet_name=sheet, nrows=num_rows)\n",
    "    return df"
   ]
  },
  {
   "cell_type": "code",
   "execution_count": 4,
   "metadata": {},
   "outputs": [],
   "source": [
    "def clean_df(df):\n",
    "    \"\"\"rename columns, drop faulty rows and reset the index to job_codes\"\"\"\n",
    "    # clean up the column names\n",
    "    df.columns = ['job_code', 'functional_area', 'job_description', \n",
    "                  'remark', 'job_title', 'start_date', 'expiry_date']\n",
    "    \n",
    "    #dropping faulty job_codes\n",
    "    index_names = df[df['job_code'].map(type) != int].index\n",
    "    df.drop(index_names, inplace=True)\n",
    "    \n",
    "    #reset the index to the job code\n",
    "    df.set_index('job_code', inplace=True)\n",
    "    \n",
    "    #sort by job codes\n",
    "    df.sort_index(axis=0, inplace=True)\n",
    "    \n",
    "    return df"
   ]
  },
  {
   "cell_type": "code",
   "execution_count": 5,
   "metadata": {},
   "outputs": [],
   "source": [
    "def find_between(s, first, last):\n",
    "    \"\"\"extract the string between two patterns\"\"\"\n",
    "    try:\n",
    "        start = s.index(first) + len(first)\n",
    "        end = s.index(last, start)\n",
    "        return s[start:end]\n",
    "    except ValueError:\n",
    "        return \"\""
   ]
  },
  {
   "cell_type": "code",
   "execution_count": 6,
   "metadata": {},
   "outputs": [],
   "source": [
    "def create_url(df):\n",
    "    \"\"\"extract the string containing the image and generate the image\"\"\"\n",
    "    \n",
    "    #extract the image text\n",
    "    df['image_string'] = df['remark'].apply(lambda x: find_between(str(x), \"Flogo%2F\", \"%22\"))\n",
    "    \n",
    "    df['image_source'] = df['image_string'].apply(lambda x:str(x).split('%2F')[0] if '%2F' in x else x)\n",
    "    \n",
    "    df['image_code'] = df['image_string'].apply(lambda x:str(x).split('%2F')[1].split('.')[0] if '%2F' in x else x)\n",
    "    \n",
    "    # generate the relevant url\n",
    "    df['image_url'] = df['image_string'].apply(lambda x:\"http://topjobs.lk/logo/{}/{}\".format(str(x).split('%2F')[0], str(x).split('%2F')[1]) if '%2F' in x else x)\n",
    "                             \n",
    "    df['image_url'] = df['image_url'].apply(lambda x: re.sub(r\"\\+\", \"%20\", str(x)))"
   ]
  },
  {
   "cell_type": "code",
   "execution_count": 7,
   "metadata": {},
   "outputs": [],
   "source": [
    "def get_images(df):\n",
    "    \"\"\"takes the dataframe as the input, uses the url column to download the image, and saves it locally\"\"\"\n",
    "    \n",
    "    file1 = open(\"E:/future_of_work/sample_images_8th_sep/os_error_codes_8th.txt\",\"a+\")\n",
    "    \n",
    "    file2 = open(\"E:/future_of_work/sample_images_8th_sep/no_url_codes_8th.txt\",\"a+\")\n",
    "    \n",
    "    for job_code in df.index[110000:]:\n",
    "        if '%2F' in df.loc[job_code, 'image_string']:\n",
    "            if '+' not in df.loc[job_code, 'image_url']:\n",
    "                response = requests.get(df.loc[job_code, 'image_url'], stream=True)\n",
    "                image_file = open(\"E:/future_of_work/sample_images_8th_sep/{}.{}\".format(str(job_code), df.loc[job_code, 'image_url'].split('.')[-1]), 'wb')\n",
    "                response.raw.decode_content = True\n",
    "                shutil.copyfileobj(response.raw, image_file)\n",
    "                image_file.close()\n",
    "            else: \n",
    "                file1.write(str(job_code) + \"\\n\")\n",
    "        else:\n",
    "            file2.write(str(job_code) + \"\\n\")\n",
    "            \n",
    "        time.sleep(rd.uniform(0.2, 0.4))\n",
    "        \n",
    "    file1.close()"
   ]
  },
  {
   "cell_type": "code",
   "execution_count": 8,
   "metadata": {},
   "outputs": [],
   "source": [
    "location = \"E:/future_of_work/data/full_set_excel_sheet/20200804-topjobs-2019-20-vacancy-data.xls\"\n",
    "sheet1 = \"2020-01-01 to 2020-06-30\"\n",
    "\n",
    "# read the file\n",
    "df_tj = read_file(location, sheet1)\n",
    "\n",
    "# clean the dataframe\n",
    "df_tj = clean_df(df_tj)\n",
    "\n",
    "# generate the urls\n",
    "create_url(df_tj)\n"
   ]
  },
  {
   "cell_type": "code",
   "execution_count": 9,
   "metadata": {},
   "outputs": [
    {
     "data": {
      "text/plain": [
       "(38484, 10)"
      ]
     },
     "execution_count": 9,
     "metadata": {},
     "output_type": "execute_result"
    }
   ],
   "source": [
    "df_tj.shape"
   ]
  },
  {
   "cell_type": "code",
   "execution_count": 13,
   "metadata": {},
   "outputs": [],
   "source": [
    "s = df_tj['image_source'].value_counts()"
   ]
  },
  {
   "cell_type": "code",
   "execution_count": 18,
   "metadata": {},
   "outputs": [
    {
     "data": {
      "text/plain": [
       "38484"
      ]
     },
     "execution_count": 18,
     "metadata": {},
     "output_type": "execute_result"
    }
   ],
   "source": [
    "s.sum()"
   ]
  },
  {
   "cell_type": "code",
   "execution_count": 22,
   "metadata": {},
   "outputs": [
    {
     "data": {
      "text/plain": [
       "94.7276790354433"
      ]
     },
     "execution_count": 22,
     "metadata": {},
     "output_type": "execute_result"
    }
   ],
   "source": [
    "100*s[s.values>50].sum()/s.sum()"
   ]
  },
  {
   "cell_type": "markdown",
   "metadata": {},
   "source": [
    "### Make that Greater than value an argument to a function - so that you can control it"
   ]
  },
  {
   "cell_type": "code",
   "execution_count": 15,
   "metadata": {},
   "outputs": [
    {
     "data": {
      "text/plain": [
       "DEFZZZ        14845\n",
       "0000000375     5640\n",
       "0000000403     2258\n",
       "               2231\n",
       "0000000023     1624\n",
       "              ...  \n",
       "0000000489        1\n",
       "0000000183        1\n",
       "0000000176        1\n",
       "0000000037        1\n",
       "0000000217        1\n",
       "Name: image_source, Length: 163, dtype: int64"
      ]
     },
     "execution_count": 15,
     "metadata": {},
     "output_type": "execute_result"
    }
   ],
   "source": [
    "s50 = s[s>50]\n",
    "s"
   ]
  },
  {
   "cell_type": "code",
   "execution_count": null,
   "metadata": {},
   "outputs": [],
   "source": [
    "a = \"3catn\""
   ]
  },
  {
   "cell_type": "code",
   "execution_count": null,
   "metadata": {},
   "outputs": [],
   "source": [
    "df_tj[df_tj['image_code'] == a]"
   ]
  },
  {
   "cell_type": "code",
   "execution_count": null,
   "metadata": {},
   "outputs": [],
   "source": [
    "df_tj[df_tj['image_source'] == \"0000000062\"]['image_url'].iloc[1]"
   ]
  },
  {
   "cell_type": "code",
   "execution_count": null,
   "metadata": {},
   "outputs": [],
   "source": [
    "df_tj['remark']"
   ]
  },
  {
   "cell_type": "code",
   "execution_count": null,
   "metadata": {},
   "outputs": [],
   "source": [
    "def main():\n",
    "    location = \"E:/future_of_work/data/full_set_excel_sheet/20200804-topjobs-2019-20-vacancy-data.xls\"\n",
    "    sheet1 = \"2020-01-01 to 2020-06-30\"\n",
    "    \n",
    "    # read the file\n",
    "    df_tj = read_file(location, sheet1, num_rows=100)\n",
    "    \n",
    "    # clean the dataframe\n",
    "    df_tj = clean_df(df_tj)\n",
    "    \n",
    "    # generate the urls\n",
    "    create_url(df_tj)\n",
    "    \n",
    "    # download the images\n",
    "    get_images(df_tj)"
   ]
  },
  {
   "cell_type": "code",
   "execution_count": null,
   "metadata": {},
   "outputs": [],
   "source": [
    "if __name__ == '__main__':\n",
    "    main()"
   ]
  },
  {
   "cell_type": "code",
   "execution_count": null,
   "metadata": {},
   "outputs": [],
   "source": [
    "df_tj.shape"
   ]
  },
  {
   "cell_type": "markdown",
   "metadata": {},
   "source": [
    "#### Steps of extraction\n",
    "\n",
    "1. "
   ]
  },
  {
   "cell_type": "code",
   "execution_count": null,
   "metadata": {},
   "outputs": [],
   "source": []
  },
  {
   "cell_type": "code",
   "execution_count": 23,
   "metadata": {},
   "outputs": [],
   "source": [
    "p1 = \"9087cAssociate+Software+Engineer\"\n",
    "p2 = \"5538cAssociate+Service+Desk+Analyst+\""
   ]
  },
  {
   "cell_type": "code",
   "execution_count": null,
   "metadata": {},
   "outputs": [],
   "source": [
    "import re\n",
    "\n",
    "# Define a string\n",
    "orgStr = \"It is a rainy day in a rainy week\"\n",
    "\n",
    "# Replace the string\n",
    "repStr = re.sub(\"rainy\", \"sunny\", orgStr)\n",
    "\n",
    "# Print the original string\n",
    "print(\"Original Text:\", orgStr)\n",
    "\n",
    "# Print the replaced string\n",
    "print(\"Replaced Text:\", repStr)"
   ]
  },
  {
   "cell_type": "code",
   "execution_count": 24,
   "metadata": {},
   "outputs": [
    {
     "name": "stdout",
     "output_type": "stream",
     "text": [
      "9087cAssociate%20Software%20Engineer\n",
      "5538cAssociate%20Service%20Desk%20Analyst%20\n"
     ]
    }
   ],
   "source": [
    "print(re.sub(r\"\\+\", \"%20\", p1))\n",
    "print(re.sub(r\"\\+\", \"%20\", p2))"
   ]
  },
  {
   "cell_type": "code",
   "execution_count": null,
   "metadata": {},
   "outputs": [],
   "source": []
  }
 ],
 "metadata": {
  "kernelspec": {
   "display_name": "Python 3",
   "language": "python",
   "name": "python3"
  },
  "language_info": {
   "codemirror_mode": {
    "name": "ipython",
    "version": 3
   },
   "file_extension": ".py",
   "mimetype": "text/x-python",
   "name": "python",
   "nbconvert_exporter": "python",
   "pygments_lexer": "ipython3",
   "version": "3.7.4"
  }
 },
 "nbformat": 4,
 "nbformat_minor": 2
}
