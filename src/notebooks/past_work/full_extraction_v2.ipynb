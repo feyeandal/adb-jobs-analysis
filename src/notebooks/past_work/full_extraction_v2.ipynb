{
 "cells": [
  {
   "cell_type": "code",
   "execution_count": 15,
   "metadata": {},
   "outputs": [],
   "source": [
    "import os\n",
    "import requests\n",
    "import shutil\n",
    "import pandas as pd\n",
    "import time\n",
    "import random as rd"
   ]
  },
  {
   "cell_type": "code",
   "execution_count": 16,
   "metadata": {},
   "outputs": [],
   "source": [
    "def read_file(filepath, sheet):\n",
    "    \"\"\"read the excel file into a dataframe\"\"\"\n",
    "    df = pd.read_excel(filepath, sheet_name=sheet)\n",
    "    return df"
   ]
  },
  {
   "cell_type": "code",
   "execution_count": 17,
   "metadata": {},
   "outputs": [],
   "source": [
    "def clean_df(df):\n",
    "    \"\"\"rename columns, drop faulty rows and reset the index to job_codes\"\"\"\n",
    "    # clean up the column names\n",
    "    df.columns = ['job_code', 'functional_area', 'job_title', 'job_description', \n",
    "                  'remark', 'start_date', 'expiry_date']\n",
    "    \n",
    "    #dropping faulty job_codes\n",
    "    index_names = df[df['job_code'].map(type) != int].index\n",
    "    df.drop(index_names, inplace=True)\n",
    "    \n",
    "    #reset the index to the job code\n",
    "    df.set_index('job_code', inplace=True)\n",
    "    \n",
    "    #sort by job codes\n",
    "    df.sort_index(axis=0, inplace=True)\n",
    "    \n",
    "    return df"
   ]
  },
  {
   "cell_type": "code",
   "execution_count": 18,
   "metadata": {},
   "outputs": [],
   "source": [
    "def find_between(s, first, last):\n",
    "    \"\"\"extract the string between two patterns\"\"\"\n",
    "    try:\n",
    "        start = s.index(first) + len(first)\n",
    "        end = s.index(last, start)\n",
    "        return s[start:end]\n",
    "    except ValueError:\n",
    "        return \"\""
   ]
  },
  {
   "cell_type": "code",
   "execution_count": 19,
   "metadata": {},
   "outputs": [],
   "source": [
    "def create_url(df):\n",
    "    \"\"\"extract the string containing the image and generate the image\"\"\"\n",
    "    \n",
    "    #extract the image text\n",
    "    df['image_string'] = df['remark'].apply(lambda x: find_between(str(x), \"Flogo%2F\", \"%22\"))\n",
    "    \n",
    "    # generate the relevant url\n",
    "    df['image_url'] = df['image_string'].apply(lambda x:\"http://topjobs.lk/logo/{}/{}\".format(str(x).split('%2F')[0], str(x).split('%2F')[1]) if '%2F' in x else x)"
   ]
  },
  {
   "cell_type": "code",
   "execution_count": 20,
   "metadata": {},
   "outputs": [],
   "source": [
    "def get_images(df):\n",
    "    \"\"\"takes the dataframe as the input, uses the url column to download the image, and saves it locally\"\"\"\n",
    "    \n",
    "    file1 = open(\"E:/future_of_work/sample_images_8th_sep/os_error_codes_8th.txt\",\"a+\")\n",
    "    \n",
    "    file2 = open(\"E:/future_of_work/sample_images_8th_sep/no_url_codes_8th.txt\",\"a+\")\n",
    "    \n",
    "    for job_code in df.index[110000:]:\n",
    "        if '%2F' in df.loc[job_code, 'image_string']:\n",
    "            if '+' not in df.loc[job_code, 'image_url']:\n",
    "                response = requests.get(df.loc[job_code, 'image_url'], stream=True)\n",
    "                image_file = open(\"E:/future_of_work/sample_images_8th_sep/{}.{}\".format(str(job_code), df.loc[job_code, 'image_url'].split('.')[-1]), 'wb')\n",
    "                response.raw.decode_content = True\n",
    "                shutil.copyfileobj(response.raw, image_file)\n",
    "                image_file.close()\n",
    "            else: \n",
    "                file1.write(str(job_code) + \"\\n\")\n",
    "        else:\n",
    "            file2.write(str(job_code) + \"\\n\")\n",
    "            \n",
    "        time.sleep(rd.uniform(0.2, 0.4))\n",
    "        \n",
    "    file1.close()\n",
    "    file2.close()"
   ]
  },
  {
   "cell_type": "code",
   "execution_count": 13,
   "metadata": {},
   "outputs": [],
   "source": [
    "def main():\n",
    "    location = \"E:/future_of_work/data/Data2018JanTo2019June.xlsx\"\n",
    "    sheet1 = \"Data2018JanTo2019June\"\n",
    "    \n",
    "    # read the file\n",
    "    df_tj = read_file(location, sheet1)\n",
    "    \n",
    "    # clean the dataframe\n",
    "    df_tj = clean_df(df_tj)\n",
    "    \n",
    "    # generate the urls\n",
    "    create_url(df_tj)\n",
    "    \n",
    "    # download the images\n",
    "    #get_images(df_tj)\n",
    "    \n",
    "    "
   ]
  },
  {
   "cell_type": "code",
   "execution_count": 29,
   "metadata": {},
   "outputs": [],
   "source": [
    "if __name__ == '__main__':\n",
    "    main()\n"
   ]
  },
  {
   "cell_type": "markdown",
   "metadata": {},
   "source": [
    "First interruption\n",
    "\n",
    "index (74802)\n",
    "\n",
    "job_code (567457)\n",
    "\n",
    "---"
   ]
  },
  {
   "cell_type": "code",
   "execution_count": 9,
   "metadata": {},
   "outputs": [],
   "source": [
    "# ab = list(df_tj.index)\n",
    "# ab.index(592591)\n",
    "# ab.index(691762)\n",
    "# dft.index[dft.index==691762]"
   ]
  },
  {
   "cell_type": "markdown",
   "metadata": {},
   "source": [
    "### 404 errors - Images less than 5kb in size"
   ]
  },
  {
   "cell_type": "code",
   "execution_count": 1,
   "metadata": {},
   "outputs": [],
   "source": [
    "import os\n",
    "from os.path import isfile, join\n",
    "from pathlib import Path"
   ]
  },
  {
   "cell_type": "code",
   "execution_count": 7,
   "metadata": {},
   "outputs": [],
   "source": [
    "mypath = \"E:/future_of_work/sample_images_8th_sep\"\n",
    "all_files = [f for f in os.listdir(mypath) if isfile(join(mypath, f))][:-2]\n",
    "image_jobcodes = [int(f.split('.')[0]) for f in all_files]"
   ]
  },
  {
   "cell_type": "code",
   "execution_count": 8,
   "metadata": {},
   "outputs": [
    {
     "data": {
      "text/plain": [
       "73481"
      ]
     },
     "execution_count": 8,
     "metadata": {},
     "output_type": "execute_result"
    }
   ],
   "source": [
    "len(image_jobcodes)"
   ]
  },
  {
   "cell_type": "code",
   "execution_count": 10,
   "metadata": {},
   "outputs": [],
   "source": [
    "error404_jobcodes = []\n",
    "error404_codes = open(\"E:/future_of_work/sample_images_8th_sep/error404_codes_8th.txt\",\"a+\")\n",
    "\n",
    "for f in all_files:\n",
    "    filesize = os.path.getsize(f\"{mypath}/{f}\")/1024\n",
    "    if filesize < 5:\n",
    "        error404_jobcodes.append(int(f.split('.')[0]))\n",
    "        error404_codes.write(str(f.split('.')[0]) + \"\\n\")\n",
    "        os.remove((f\"{mypath}/{f}\"))\n",
    "        \n",
    "error404_codes.close()"
   ]
  },
  {
   "cell_type": "code",
   "execution_count": 11,
   "metadata": {},
   "outputs": [
    {
     "data": {
      "text/plain": [
       "58311"
      ]
     },
     "execution_count": 11,
     "metadata": {},
     "output_type": "execute_result"
    }
   ],
   "source": [
    "len(error404_jobcodes)"
   ]
  },
  {
   "cell_type": "code",
   "execution_count": 21,
   "metadata": {},
   "outputs": [],
   "source": [
    "location = \"E:/future_of_work/data/Data2018JanTo2019June.xlsx\"\n",
    "sheet1 = \"Data2018JanTo2019June\"\n",
    "\n",
    "df_ec = read_file(location, sheet1)\n",
    "df_ec = clean_df(df_ec)\n",
    "create_url(df_ec)"
   ]
  },
  {
   "cell_type": "code",
   "execution_count": 28,
   "metadata": {},
   "outputs": [],
   "source": [
    "# sum = 0\n",
    "# for index in error404_jobcodes[-20:]:\n",
    "#     if '%' not in df_ec.loc[index, \"image_url\"]:\n",
    "#         #sum += 1\n",
    "#         print(df_ec.loc[index, \"image_url\"])"
   ]
  },
  {
   "cell_type": "markdown",
   "metadata": {},
   "source": [
    "### Check whether Images are corrupted or not"
   ]
  },
  {
   "cell_type": "code",
   "execution_count": 29,
   "metadata": {},
   "outputs": [],
   "source": [
    "from PIL import Image\n"
   ]
  },
  {
   "cell_type": "code",
   "execution_count": 48,
   "metadata": {},
   "outputs": [],
   "source": [
    "mypath = \"E:/future_of_work/sample_images_8th_sep\"\n",
    "all_files = [f for f in os.listdir(mypath) if isfile(join(mypath, f))][:-3]\n",
    "#image_jobcodes = [int(f.split('.')[0]) for f in all_files]\n",
    "\n"
   ]
  },
  {
   "cell_type": "code",
   "execution_count": 49,
   "metadata": {},
   "outputs": [],
   "source": [
    "broken_images = []\n",
    "for file in all_files:\n",
    "    try:\n",
    "        v_image = Image.open(f\"E:/future_of_work/sample_images_8th_sep/{file}\")\n",
    "        v_image.verify()\n",
    "    except:\n",
    "        broken_images.append(file)\n",
    "    finally:\n",
    "        v_image.close()"
   ]
  },
  {
   "cell_type": "code",
   "execution_count": 53,
   "metadata": {},
   "outputs": [
    {
     "name": "stdout",
     "output_type": "stream",
     "text": [
      "['482784.png', '482857.jpg', '492175.jpg', '492184.jpg', '492189.PNG']\n"
     ]
    }
   ],
   "source": [
    "print(broken_images[:5])"
   ]
  },
  {
   "cell_type": "code",
   "execution_count": 54,
   "metadata": {},
   "outputs": [],
   "source": [
    "for image_number in broken_images:\n",
    "    job_code = int(image_number.split('.')[0])\n",
    "    response = requests.get(df_ec.loc[job_code, 'image_url'], stream=True)\n",
    "    image_file = open(\"E:/future_of_work/sample_images_8th_sep/broken/{}.{}\".format(str(job_code), df_ec.loc[job_code, 'image_url'].split('.')[-1]), 'wb')\n",
    "    response.raw.decode_content = True\n",
    "    shutil.copyfileobj(response.raw, image_file)\n",
    "    image_file.close()\n",
    "    time.sleep(rd.uniform(0.8, 1.2))"
   ]
  },
  {
   "cell_type": "code",
   "execution_count": 75,
   "metadata": {},
   "outputs": [],
   "source": [
    "#df_ec.loc[job_code, 'image_url']"
   ]
  },
  {
   "cell_type": "markdown",
   "metadata": {},
   "source": [
    "### 404 errors (repeat after previous step) - Images less than 5kb in size"
   ]
  },
  {
   "cell_type": "code",
   "execution_count": 76,
   "metadata": {},
   "outputs": [],
   "source": [
    "mypath = \"E:/future_of_work/sample_images_8th_sep/broken\"\n",
    "all_files = [f for f in os.listdir(mypath) if isfile(join(mypath, f))][:-31]\n",
    "image_jobcodes = [int(f.split('.')[0]) for f in all_files]"
   ]
  },
  {
   "cell_type": "code",
   "execution_count": 77,
   "metadata": {},
   "outputs": [
    {
     "data": {
      "text/plain": [
       "349"
      ]
     },
     "execution_count": 77,
     "metadata": {},
     "output_type": "execute_result"
    }
   ],
   "source": [
    "len(image_jobcodes)"
   ]
  },
  {
   "cell_type": "code",
   "execution_count": 78,
   "metadata": {},
   "outputs": [],
   "source": [
    "error404_jobcodes_1 = []\n",
    "error404_codes_1 = open(\"E:/future_of_work/sample_images_8th_sep/error404_codes_1_8th.txt\",\"a+\")\n",
    "\n",
    "for f in all_files:\n",
    "    error404_jobcodes_1.append(int(f.split('.')[0]))\n",
    "    error404_codes_1.write(str(f.split('.')[0]) + \"\\n\")\n",
    "    os.remove((f\"{mypath}/{f}\"))\n",
    "    os.remove((f\"E:/future_of_work/sample_images_8th_sep/{f}\"))\n",
    "        \n",
    "error404_codes_1.close()"
   ]
  },
  {
   "cell_type": "markdown",
   "metadata": {},
   "source": [
    "###  Recording missing files in excel\n"
   ]
  },
  {
   "cell_type": "markdown",
   "metadata": {},
   "source": [
    "##### Loading files"
   ]
  },
  {
   "cell_type": "code",
   "execution_count": 80,
   "metadata": {},
   "outputs": [],
   "source": [
    "os_errors = open(\"E:/future_of_work/sample_images_8th_sep/os_error_codes_8th.txt\",\"r\")\n",
    "no_url = open(\"E:/future_of_work/sample_images_8th_sep/no_url_codes_8th.txt\", \"r\")\n",
    "error_404 = open(\"E:/future_of_work/sample_images_8th_sep/error404_codes_8th.txt\", \"r\")"
   ]
  },
  {
   "cell_type": "code",
   "execution_count": 81,
   "metadata": {},
   "outputs": [],
   "source": [
    "list_os_errors = []\n",
    "list_no_url = []\n",
    "list_error_404 = []\n",
    "\n",
    "for line in os_errors:\n",
    "    list_os_errors.append(int(line.strip()))\n",
    "    \n",
    "for line in no_url:\n",
    "    list_no_url.append(int(line.strip()))\n",
    "    \n",
    "for line in error_404:\n",
    "    list_error_404.append(int(line.strip()))\n",
    "    \n",
    "os_errors.close()\n",
    "no_url.close()\n",
    "error_404.close()\n",
    "\n"
   ]
  },
  {
   "cell_type": "code",
   "execution_count": 82,
   "metadata": {},
   "outputs": [
    {
     "name": "stdout",
     "output_type": "stream",
     "text": [
      "70467\n",
      "21771\n",
      "58661\n"
     ]
    }
   ],
   "source": [
    "print(len(list_os_errors))\n",
    "print(len(list_no_url))\n",
    "print(len(list_error_404))"
   ]
  },
  {
   "cell_type": "code",
   "execution_count": 83,
   "metadata": {},
   "outputs": [
    {
     "name": "stdout",
     "output_type": "stream",
     "text": [
      "150899\n"
     ]
    }
   ],
   "source": [
    "print(len(list_os_errors) + len(list_no_url) + len(list_error_404))"
   ]
  },
  {
   "cell_type": "markdown",
   "metadata": {},
   "source": [
    "### DEFZZZ pattern request topjobs"
   ]
  },
  {
   "cell_type": "markdown",
   "metadata": {},
   "source": []
  },
  {
   "cell_type": "code",
   "execution_count": 109,
   "metadata": {},
   "outputs": [],
   "source": [
    "merged_list = sorted(list_os_errors + list_no_url + list_error_404)"
   ]
  },
  {
   "cell_type": "code",
   "execution_count": 108,
   "metadata": {},
   "outputs": [
    {
     "data": {
      "text/plain": [
       "150899"
      ]
     },
     "execution_count": 108,
     "metadata": {},
     "output_type": "execute_result"
    }
   ],
   "source": [
    "len(merged_list)"
   ]
  },
  {
   "cell_type": "code",
   "execution_count": 110,
   "metadata": {},
   "outputs": [],
   "source": [
    "pf = df_ec[df_ec.index.isin(merged_list)]"
   ]
  },
  {
   "cell_type": "code",
   "execution_count": 111,
   "metadata": {},
   "outputs": [
    {
     "data": {
      "text/plain": [
       "(150899, 8)"
      ]
     },
     "execution_count": 111,
     "metadata": {},
     "output_type": "execute_result"
    }
   ],
   "source": [
    "pf.shape"
   ]
  },
  {
   "cell_type": "code",
   "execution_count": 112,
   "metadata": {},
   "outputs": [
    {
     "data": {
      "text/html": [
       "<div>\n",
       "<style scoped>\n",
       "    .dataframe tbody tr th:only-of-type {\n",
       "        vertical-align: middle;\n",
       "    }\n",
       "\n",
       "    .dataframe tbody tr th {\n",
       "        vertical-align: top;\n",
       "    }\n",
       "\n",
       "    .dataframe thead th {\n",
       "        text-align: right;\n",
       "    }\n",
       "</style>\n",
       "<table border=\"1\" class=\"dataframe\">\n",
       "  <thead>\n",
       "    <tr style=\"text-align: right;\">\n",
       "      <th></th>\n",
       "      <th>functional_area</th>\n",
       "      <th>job_title</th>\n",
       "      <th>job_description</th>\n",
       "      <th>remark</th>\n",
       "      <th>start_date</th>\n",
       "      <th>expiry_date</th>\n",
       "      <th>image_string</th>\n",
       "      <th>image_url</th>\n",
       "    </tr>\n",
       "    <tr>\n",
       "      <th>job_code</th>\n",
       "      <th></th>\n",
       "      <th></th>\n",
       "      <th></th>\n",
       "      <th></th>\n",
       "      <th></th>\n",
       "      <th></th>\n",
       "      <th></th>\n",
       "      <th></th>\n",
       "    </tr>\n",
       "  </thead>\n",
       "  <tbody>\n",
       "    <tr>\n",
       "      <td>36569</td>\n",
       "      <td>Eng-Mech/Auto/Elec</td>\n",
       "      <td>Executive+-+Engineering+%28Mechanical%29+</td>\n",
       "      <td>%C2%B7+++++++++4-6+Years+of+with+adequate+know...</td>\n",
       "      <td>%3Cp%3E%3Cstrong%3EPerfetti+Van+Melle+Lanka+%2...</td>\n",
       "      <td>2019-02-12 00:00:00.000</td>\n",
       "      <td>2019-02-22 00:00:00.000</td>\n",
       "      <td></td>\n",
       "      <td></td>\n",
       "    </tr>\n",
       "    <tr>\n",
       "      <td>68518</td>\n",
       "      <td>Eng-Mech/Auto/Elec</td>\n",
       "      <td>Post+of++Technician+-+Electrical%2FMechanical+++</td>\n",
       "      <td>+Age+below+35+%28Male%29%0D%0A+Successful+comp...</td>\n",
       "      <td>%3Cp+style%3D%22text-align%3Acenter%22%3E%3Cst...</td>\n",
       "      <td>2018-06-05 00:00:00.000</td>\n",
       "      <td>2018-06-15 00:00:00.000</td>\n",
       "      <td></td>\n",
       "      <td></td>\n",
       "    </tr>\n",
       "  </tbody>\n",
       "</table>\n",
       "</div>"
      ],
      "text/plain": [
       "             functional_area  \\\n",
       "job_code                       \n",
       "36569     Eng-Mech/Auto/Elec   \n",
       "68518     Eng-Mech/Auto/Elec   \n",
       "\n",
       "                                                 job_title  \\\n",
       "job_code                                                     \n",
       "36569            Executive+-+Engineering+%28Mechanical%29+   \n",
       "68518     Post+of++Technician+-+Electrical%2FMechanical+++   \n",
       "\n",
       "                                            job_description  \\\n",
       "job_code                                                      \n",
       "36569     %C2%B7+++++++++4-6+Years+of+with+adequate+know...   \n",
       "68518     +Age+below+35+%28Male%29%0D%0A+Successful+comp...   \n",
       "\n",
       "                                                     remark  \\\n",
       "job_code                                                      \n",
       "36569     %3Cp%3E%3Cstrong%3EPerfetti+Van+Melle+Lanka+%2...   \n",
       "68518     %3Cp+style%3D%22text-align%3Acenter%22%3E%3Cst...   \n",
       "\n",
       "                       start_date              expiry_date image_string  \\\n",
       "job_code                                                                  \n",
       "36569     2019-02-12 00:00:00.000  2019-02-22 00:00:00.000                \n",
       "68518     2018-06-05 00:00:00.000  2018-06-15 00:00:00.000                \n",
       "\n",
       "         image_url  \n",
       "job_code            \n",
       "36569               \n",
       "68518               "
      ]
     },
     "execution_count": 112,
     "metadata": {},
     "output_type": "execute_result"
    }
   ],
   "source": [
    "pf.tail()"
   ]
  },
  {
   "cell_type": "code",
   "execution_count": 105,
   "metadata": {},
   "outputs": [
    {
     "data": {
      "text/plain": [
       "True"
      ]
     },
     "execution_count": 105,
     "metadata": {},
     "output_type": "execute_result"
    }
   ],
   "source": [
    "'DEFZZZ' in list(pf['image_string'])[0]"
   ]
  },
  {
   "cell_type": "code",
   "execution_count": 121,
   "metadata": {},
   "outputs": [],
   "source": [
    "dfzz = pf[pf['image_string'].str.contains(\"DEFZZZ\")]"
   ]
  },
  {
   "cell_type": "code",
   "execution_count": 122,
   "metadata": {},
   "outputs": [
    {
     "data": {
      "text/plain": [
       "(66866, 8)"
      ]
     },
     "execution_count": 122,
     "metadata": {},
     "output_type": "execute_result"
    }
   ],
   "source": [
    "dfzz.shape"
   ]
  },
  {
   "cell_type": "code",
   "execution_count": 123,
   "metadata": {},
   "outputs": [
    {
     "data": {
      "text/html": [
       "<div>\n",
       "<style scoped>\n",
       "    .dataframe tbody tr th:only-of-type {\n",
       "        vertical-align: middle;\n",
       "    }\n",
       "\n",
       "    .dataframe tbody tr th {\n",
       "        vertical-align: top;\n",
       "    }\n",
       "\n",
       "    .dataframe thead th {\n",
       "        text-align: right;\n",
       "    }\n",
       "</style>\n",
       "<table border=\"1\" class=\"dataframe\">\n",
       "  <thead>\n",
       "    <tr style=\"text-align: right;\">\n",
       "      <th></th>\n",
       "      <th>functional_area</th>\n",
       "      <th>job_title</th>\n",
       "      <th>job_description</th>\n",
       "      <th>remark</th>\n",
       "      <th>start_date</th>\n",
       "      <th>expiry_date</th>\n",
       "      <th>image_string</th>\n",
       "      <th>image_url</th>\n",
       "    </tr>\n",
       "    <tr>\n",
       "      <th>job_code</th>\n",
       "      <th></th>\n",
       "      <th></th>\n",
       "      <th></th>\n",
       "      <th></th>\n",
       "      <th></th>\n",
       "      <th></th>\n",
       "      <th></th>\n",
       "      <th></th>\n",
       "    </tr>\n",
       "  </thead>\n",
       "  <tbody>\n",
       "    <tr>\n",
       "      <td>489913</td>\n",
       "      <td>IT-Sware/DB/QA/Web/Graphics/GIS</td>\n",
       "      <td>Business+Intelligence+%28BI%29+Consultant+-+Ba...</td>\n",
       "      <td>Please+refer+the+advertisement+</td>\n",
       "      <td>%3Cp+style%3D%22text-align%3Acenter%22%3E%3Cim...</td>\n",
       "      <td>2018-01-03 00:00:00.000</td>\n",
       "      <td>2018-01-08 00:00:00.000</td>\n",
       "      <td>DEFZZZ%2F4603csys.jpg</td>\n",
       "      <td>http://topjobs.lk/logo/DEFZZZ/4603csys.jpg</td>\n",
       "    </tr>\n",
       "    <tr>\n",
       "      <td>490576</td>\n",
       "      <td>Accounting/Auditing/Finance</td>\n",
       "      <td>Internship+-+Finance*First+Capital+Holdings+PLC</td>\n",
       "      <td>Please+refer+the+advertisement+</td>\n",
       "      <td>%3Cp+style%3D%22text-align%3A+center%3B%22%3E%...</td>\n",
       "      <td>2018-01-02 00:00:00.000</td>\n",
       "      <td>2018-01-03 00:00:00.000</td>\n",
       "      <td>DEFZZZ%2F8092cDunimas.jpg</td>\n",
       "      <td>http://topjobs.lk/logo/DEFZZZ/8092cDunimas.jpg</td>\n",
       "    </tr>\n",
       "  </tbody>\n",
       "</table>\n",
       "</div>"
      ],
      "text/plain": [
       "                          functional_area  \\\n",
       "job_code                                    \n",
       "489913    IT-Sware/DB/QA/Web/Graphics/GIS   \n",
       "490576        Accounting/Auditing/Finance   \n",
       "\n",
       "                                                  job_title  \\\n",
       "job_code                                                      \n",
       "489913    Business+Intelligence+%28BI%29+Consultant+-+Ba...   \n",
       "490576      Internship+-+Finance*First+Capital+Holdings+PLC   \n",
       "\n",
       "                          job_description  \\\n",
       "job_code                                    \n",
       "489913    Please+refer+the+advertisement+   \n",
       "490576    Please+refer+the+advertisement+   \n",
       "\n",
       "                                                     remark  \\\n",
       "job_code                                                      \n",
       "489913    %3Cp+style%3D%22text-align%3Acenter%22%3E%3Cim...   \n",
       "490576    %3Cp+style%3D%22text-align%3A+center%3B%22%3E%...   \n",
       "\n",
       "                       start_date              expiry_date  \\\n",
       "job_code                                                     \n",
       "489913    2018-01-03 00:00:00.000  2018-01-08 00:00:00.000   \n",
       "490576    2018-01-02 00:00:00.000  2018-01-03 00:00:00.000   \n",
       "\n",
       "                       image_string  \\\n",
       "job_code                              \n",
       "489913        DEFZZZ%2F4603csys.jpg   \n",
       "490576    DEFZZZ%2F8092cDunimas.jpg   \n",
       "\n",
       "                                               image_url  \n",
       "job_code                                                  \n",
       "489913        http://topjobs.lk/logo/DEFZZZ/4603csys.jpg  \n",
       "490576    http://topjobs.lk/logo/DEFZZZ/8092cDunimas.jpg  "
      ]
     },
     "execution_count": 123,
     "metadata": {},
     "output_type": "execute_result"
    }
   ],
   "source": [
    "dfzz.head(2)"
   ]
  },
  {
   "cell_type": "code",
   "execution_count": 115,
   "metadata": {},
   "outputs": [
    {
     "data": {
      "text/plain": [
       "(66866, 8)"
      ]
     },
     "execution_count": 115,
     "metadata": {},
     "output_type": "execute_result"
    }
   ],
   "source": [
    "dfzz.shape"
   ]
  },
  {
   "cell_type": "code",
   "execution_count": 124,
   "metadata": {},
   "outputs": [],
   "source": [
    "dfzz = dfzz[['image_string']]"
   ]
  },
  {
   "cell_type": "code",
   "execution_count": 125,
   "metadata": {},
   "outputs": [
    {
     "data": {
      "text/plain": [
       "(66866, 1)"
      ]
     },
     "execution_count": 125,
     "metadata": {},
     "output_type": "execute_result"
    }
   ],
   "source": [
    "dfzz.shape"
   ]
  },
  {
   "cell_type": "code",
   "execution_count": 126,
   "metadata": {},
   "outputs": [
    {
     "data": {
      "text/plain": [
       "'E:\\\\future_of_work\\\\code\\\\eda'"
      ]
     },
     "execution_count": 126,
     "metadata": {},
     "output_type": "execute_result"
    }
   ],
   "source": [
    "pwd()"
   ]
  },
  {
   "cell_type": "code",
   "execution_count": 127,
   "metadata": {},
   "outputs": [],
   "source": [
    "dfzz.to_excel(\"defzzz_type_errors.xlsx\")"
   ]
  },
  {
   "cell_type": "code",
   "execution_count": null,
   "metadata": {},
   "outputs": [],
   "source": []
  }
 ],
 "metadata": {
  "kernelspec": {
   "display_name": "Python 3",
   "language": "python",
   "name": "python3"
  },
  "language_info": {
   "codemirror_mode": {
    "name": "ipython",
    "version": 3
   },
   "file_extension": ".py",
   "mimetype": "text/x-python",
   "name": "python",
   "nbconvert_exporter": "python",
   "pygments_lexer": "ipython3",
   "version": "3.7.4"
  }
 },
 "nbformat": 4,
 "nbformat_minor": 2
}
