{
 "cells": [
  {
   "cell_type": "markdown",
   "metadata": {},
   "source": [
    "# Downloading the Images"
   ]
  },
  {
   "cell_type": "code",
   "execution_count": null,
   "metadata": {},
   "outputs": [],
   "source": [
    "import os\n",
    "import requests\n",
    "import shutil\n",
    "import pandas as pd\n",
    "import time\n",
    "import random as rd\n",
    "import sys"
   ]
  },
  {
   "cell_type": "code",
   "execution_count": null,
   "metadata": {},
   "outputs": [],
   "source": [
    "def read_file(filepath, sheet):\n",
    "    \"\"\"read the excel file into a dataframe\"\"\"\n",
    "    df = pd.read_excel(filepath, sheet_name=sheet)\n",
    "    return df"
   ]
  },
  {
   "cell_type": "code",
   "execution_count": null,
   "metadata": {},
   "outputs": [],
   "source": [
    "def clean_df(df):\n",
    "    \"\"\"rename columns, drop faulty rows, reset the index to job_codes and sort the dataframe by index\"\"\"\n",
    "    # clean up the column names\n",
    "    df.columns = ['job_code', 'functional_area', 'job_title', 'job_description', \n",
    "                  'remark', 'start_date', 'expiry_date']\n",
    "    \n",
    "    #dropping faulty job_codes\n",
    "    index_names = df[df['job_code'].map(type) != int].index\n",
    "    df.drop(index_names, inplace=True)\n",
    "    \n",
    "    #reset the index to the job code\n",
    "    df.set_index('job_code', inplace=True)\n",
    "    \n",
    "    #sort by job codes\n",
    "    df.sort_index(axis=0, inplace=True)\n",
    "    \n",
    "    return df"
   ]
  },
  {
   "cell_type": "code",
   "execution_count": null,
   "metadata": {},
   "outputs": [],
   "source": [
    "def find_between(s, first, last):\n",
    "    \"\"\"extract the string between two patterns\"\"\"\n",
    "    try:\n",
    "        start = s.index(first) + len(first)\n",
    "        end = s.index(last, start)\n",
    "        return s[start:end]\n",
    "    except ValueError:\n",
    "        return \"\""
   ]
  },
  {
   "cell_type": "code",
   "execution_count": null,
   "metadata": {},
   "outputs": [],
   "source": [
    "def gen_url(string):\n",
    "    \"\"\"generate the image url from instructions\"\"\"\n",
    "    \n",
    "    if '%2F' in string:\n",
    "        part1 = string.split('%2F')[0]\n",
    "        part2 = string.split('%2F')[1]\n",
    "        \n",
    "        return \"http://topjobs.lk/logo/{}/{}\".format(part1, part2)\n",
    "    else:\n",
    "        return string"
   ]
  },
  {
   "cell_type": "code",
   "execution_count": null,
   "metadata": {},
   "outputs": [],
   "source": [
    "def create_url_col(df):\n",
    "    \"\"\"extract the string containing the image and generate the image\"\"\"\n",
    "    \n",
    "    #extract the image text\n",
    "    df['image_string'] = df['remark'].apply(lambda x: find_between(str(x), \"Flogo%2F\", \"%22\"))\n",
    "    \n",
    "    # generate the relevant url\n",
    "    df['image_url'] = df['image_string'].apply(lambda x: gen_url(x))"
   ]
  },
  {
   "cell_type": "code",
   "execution_count": null,
   "metadata": {},
   "outputs": [],
   "source": [
    "def get_images(df, start=0, end):\n",
    "    \"\"\"takes the dataframe as the input, uses the url column to download the image, and saves it locally\"\"\"\n",
    "    \n",
    "    filepath = #define filepath here\n",
    "    \n",
    "    os_error = open(f\"{filepath}/os_error_codes.txt\",\"a+\") #change file name\n",
    "    \n",
    "    no_url = open(f\"{filepath}/no_url_codes.txt\",\"a+\") #change file name\n",
    "    \n",
    "    for job_code in df.index[start:end]:\n",
    "        if '%2F' in df.loc[job_code, 'image_string']: # a url won't be created in the absence of this pattern\n",
    "            if '+' not in df.loc[job_code, 'image_url']: # '+' encoded images generated os type error\n",
    "                response = requests.get(df.loc[job_code, 'image_url'], stream=True)\n",
    "                image_file = open(\"{}/{}.{}\".format(filepath, str(job_code), df.loc[job_code, 'image_url'].split('.')[-1]), 'wb')\n",
    "                response.raw.decode_content = True\n",
    "                shutil.copyfileobj(response.raw, image_file)\n",
    "                image_file.close()\n",
    "            else: \n",
    "                os_error.write(str(job_code) + \"\\n\")\n",
    "        else:\n",
    "            no_url.write(str(job_code) + \"\\n\")\n",
    "            \n",
    "        #sleep between requests\n",
    "        time.sleep(rd.uniform(0.2, 0.4))\n",
    "        \n",
    "    os_error.close()\n",
    "    no_url.close()"
   ]
  },
  {
   "cell_type": "code",
   "execution_count": null,
   "metadata": {},
   "outputs": [],
   "source": [
    "def main():\n",
    "    location = \"\" #sys.argv[1]\n",
    "    sheet = \"\" #sys.argv[2]\n",
    "    start = #sys.argv[3]\n",
    "    end = #sys.argv[4]\n",
    "    \n",
    "    # read the file\n",
    "    df_tj = read_file(location, sheet)\n",
    "    \n",
    "    # clean the dataframe\n",
    "    df_tj = clean_df(df_tj)\n",
    "    \n",
    "    # generate the urls\n",
    "    create_url_col(df_tj)\n",
    "    \n",
    "    # download the images\n",
    "    get_images(df_tj)\n",
    "    \n",
    "    "
   ]
  },
  {
   "cell_type": "code",
   "execution_count": null,
   "metadata": {},
   "outputs": [],
   "source": [
    "if __name__ == '__main__':\n",
    "    main()\n"
   ]
  },
  {
   "cell_type": "markdown",
   "metadata": {},
   "source": [
    "---"
   ]
  },
  {
   "cell_type": "markdown",
   "metadata": {},
   "source": [
    "# Interruption Handling"
   ]
  },
  {
   "cell_type": "markdown",
   "metadata": {},
   "source": [
    "ab = list(dft.index)\n",
    "\n",
    "ab.index(660266)"
   ]
  },
  {
   "cell_type": "code",
   "execution_count": null,
   "metadata": {},
   "outputs": [],
   "source": []
  }
 ],
 "metadata": {
  "kernelspec": {
   "display_name": "Python 3",
   "language": "python",
   "name": "python3"
  },
  "language_info": {
   "codemirror_mode": {
    "name": "ipython",
    "version": 3
   },
   "file_extension": ".py",
   "mimetype": "text/x-python",
   "name": "python",
   "nbconvert_exporter": "python",
   "pygments_lexer": "ipython3",
   "version": "3.8.8"
  }
 },
 "nbformat": 4,
 "nbformat_minor": 2
}
