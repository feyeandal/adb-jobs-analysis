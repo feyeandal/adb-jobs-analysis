{
 "cells": [
  {
   "cell_type": "code",
   "execution_count": 2,
   "id": "ffe3cd0c",
   "metadata": {},
   "outputs": [],
   "source": [
    "import pandas as pd"
   ]
  },
  {
   "cell_type": "code",
   "execution_count": 24,
   "id": "204afcf8",
   "metadata": {},
   "outputs": [],
   "source": [
    "import spacy\n",
    "from pprint import pprint"
   ]
  },
  {
   "cell_type": "code",
   "execution_count": 3,
   "id": "ab5e8d3b",
   "metadata": {},
   "outputs": [],
   "source": [
    "import gensim\n",
    "import gensim.corpora as corpora\n",
    "from gensim.utils import simple_preprocess\n",
    "from gensim.models import CoherenceModel"
   ]
  },
  {
   "cell_type": "code",
   "execution_count": 4,
   "id": "17d71d00",
   "metadata": {},
   "outputs": [
    {
     "name": "stderr",
     "output_type": "stream",
     "text": [
      "[nltk_data] Downloading package stopwords to\n",
      "[nltk_data]     C:\\Users\\Merl\\AppData\\Roaming\\nltk_data...\n",
      "[nltk_data]   Package stopwords is already up-to-date!\n"
     ]
    },
    {
     "data": {
      "text/plain": [
       "True"
      ]
     },
     "execution_count": 4,
     "metadata": {},
     "output_type": "execute_result"
    }
   ],
   "source": [
    "import nltk\n",
    "nltk.download('stopwords')"
   ]
  },
  {
   "cell_type": "code",
   "execution_count": 5,
   "id": "9db0d3fb",
   "metadata": {},
   "outputs": [],
   "source": [
    "file_path = \"E:/ADB_Project/code/data/pipeline_sample.csv\"\n",
    "df = pd.read_csv(file_path)"
   ]
  },
  {
   "cell_type": "markdown",
   "id": "6366be17",
   "metadata": {},
   "source": [
    "### Tokenize words"
   ]
  },
  {
   "cell_type": "code",
   "execution_count": 6,
   "id": "9a891e04",
   "metadata": {},
   "outputs": [],
   "source": [
    "def sent_to_words(sentences):\n",
    "    for sentence in sentences:\n",
    "        yield(gensim.utils.simple_preprocess(sentence))"
   ]
  },
  {
   "cell_type": "markdown",
   "id": "e241b51c",
   "metadata": {},
   "source": [
    "### Stopword Removal"
   ]
  },
  {
   "cell_type": "code",
   "execution_count": 18,
   "id": "7eb3ed3a",
   "metadata": {},
   "outputs": [],
   "source": [
    "def remove_stopwords(texts):\n",
    "    stop_words = nltk.corpus.stopwords.words('english')\n",
    "    return [[word for word in simple_preprocess(str(doc)) if word not in stop_words] for doc in texts]"
   ]
  },
  {
   "cell_type": "markdown",
   "id": "9a5914a8",
   "metadata": {},
   "source": [
    "### Build Bigram and Trigram Models"
   ]
  },
  {
   "cell_type": "code",
   "execution_count": 8,
   "id": "4bee6d37",
   "metadata": {},
   "outputs": [],
   "source": [
    "def make_bigrams(tokens, bigram):\n",
    "    \n",
    "    bigram_mod = gensim.models.phrases.Phraser(bigram)\n",
    "    \n",
    "    return [bigram_mod[doc] for doc in tokens]"
   ]
  },
  {
   "cell_type": "code",
   "execution_count": 12,
   "id": "3b821627",
   "metadata": {},
   "outputs": [],
   "source": [
    "nlp = spacy.load('en_core_web_sm', disable=['parser', 'ner'])\n",
    "\n",
    "def lemmatization(tokens, allowed_postags=[\"NOUN\", \"ADJ\", \"VERB\", \"ADV\"]):\n",
    "    \"\"\"https://spacy.io/api/annotation\"\"\"\n",
    "    texts_out = []\n",
    "    for sent in tokens:\n",
    "        doc = nlp(\" \".join(sent)) \n",
    "        texts_out.append([token.lemma_ for token in doc if token.pos_ in allowed_postags])\n",
    "    return texts_out"
   ]
  },
  {
   "cell_type": "markdown",
   "id": "4303eb07",
   "metadata": {},
   "source": [
    "---"
   ]
  },
  {
   "cell_type": "code",
   "execution_count": 14,
   "id": "172b5271",
   "metadata": {},
   "outputs": [],
   "source": [
    "file_path = \"E:/ADB_Project/code/data/pipeline_sample.csv\"\n",
    "df = pd.read_csv(file_path)"
   ]
  },
  {
   "cell_type": "code",
   "execution_count": 19,
   "id": "9df9c1f0",
   "metadata": {},
   "outputs": [],
   "source": [
    "tokens = list(sent_to_words(list(df[\"clean\"])))\n",
    "tokens_nostops = remove_stopwords(tokens)\n",
    "\n",
    "bigrams = gensim.models.Phrases(tokens, min_count=3, threshold=10)\n",
    "tokens_bigrams = make_bigrams(tokens_nostops, bigrams)"
   ]
  },
  {
   "cell_type": "code",
   "execution_count": 20,
   "id": "e7d0bdd3",
   "metadata": {},
   "outputs": [],
   "source": [
    "tokens_lemmatized = lemmatization(tokens_bigrams)"
   ]
  },
  {
   "cell_type": "code",
   "execution_count": 21,
   "id": "cd3d9e9b",
   "metadata": {},
   "outputs": [],
   "source": [
    "# Create Dictionary\n",
    "id2word = corpora.Dictionary(tokens_lemmatized)\n",
    "\n",
    "# Create Corpus\n",
    "texts = tokens_lemmatized\n",
    "\n",
    "# Term Document Frequency\n",
    "corpus = [id2word.doc2bow(text) for text in texts]"
   ]
  },
  {
   "cell_type": "code",
   "execution_count": 22,
   "id": "50fc2179",
   "metadata": {},
   "outputs": [],
   "source": [
    "# Build LDA model\n",
    "lda_model = gensim.models.ldamodel.LdaModel(corpus=corpus,\n",
    "                                           id2word=id2word,\n",
    "                                           num_topics=5, \n",
    "                                           random_state=100,\n",
    "                                           update_every=10,\n",
    "                                           chunksize=100,\n",
    "                                           passes=10,\n",
    "                                           alpha='auto',\n",
    "                                           per_word_topics=True)"
   ]
  },
  {
   "cell_type": "code",
   "execution_count": 25,
   "id": "bbf9b97e",
   "metadata": {},
   "outputs": [
    {
     "name": "stdout",
     "output_type": "stream",
     "text": [
      "[(0,\n",
      "  '0.015*\"experience\" + 0.010*\"profile\" + 0.009*\"knowledge\" + 0.009*\"system\" + '\n",
      "  '0.009*\"talent_search\" + 0.006*\"candidate\" + 0.006*\"client\" + 0.006*\"make\" + '\n",
      "  '0.006*\"attractive_remuneration\" + 0.006*\"opportunity\"'),\n",
      " (1,\n",
      "  '0.022*\"experience\" + 0.012*\"work\" + 0.010*\"skill\" + 0.009*\"knowledge\" + '\n",
      "  '0.007*\"requirement\" + 0.007*\"ability\" + 0.007*\"test\" + 0.007*\"technology\" + '\n",
      "  '0.007*\"business\" + 0.006*\"tool\"'),\n",
      " (2,\n",
      "  '0.015*\"experience\" + 0.010*\"development\" + 0.009*\"work\" + 0.008*\"service\" + '\n",
      "  '0.007*\"knowledge\" + 0.006*\"software\" + 0.006*\"cloud\" + 0.006*\"design\" + '\n",
      "  '0.006*\"team\" + 0.006*\"solution\"'),\n",
      " (3,\n",
      "  '0.011*\"experience\" + 0.006*\"work\" + 0.005*\"look\" + 0.005*\"server\" + '\n",
      "  '0.005*\"system\" + 0.004*\"year\" + 0.004*\"holding\" + 0.004*\"good\" + '\n",
      "  '0.003*\"design\" + 0.003*\"development\"'),\n",
      " (4,\n",
      "  '0.019*\"experience\" + 0.011*\"team\" + 0.009*\"skill\" + 0.007*\"oracle\" + '\n",
      "  '0.007*\"product\" + 0.007*\"design\" + 0.006*\"web\" + 0.006*\"work\" + '\n",
      "  '0.005*\"development\" + 0.005*\"ability\"')]\n"
     ]
    }
   ],
   "source": [
    "#Print the Keyword in the 20 topics\n",
    "pprint(lda_model.print_topics())"
   ]
  },
  {
   "cell_type": "code",
   "execution_count": null,
   "id": "b9186d2c",
   "metadata": {},
   "outputs": [],
   "source": []
  }
 ],
 "metadata": {
  "kernelspec": {
   "display_name": "Python 3",
   "language": "python",
   "name": "python3"
  },
  "language_info": {
   "codemirror_mode": {
    "name": "ipython",
    "version": 3
   },
   "file_extension": ".py",
   "mimetype": "text/x-python",
   "name": "python",
   "nbconvert_exporter": "python",
   "pygments_lexer": "ipython3",
   "version": "3.8.8"
  }
 },
 "nbformat": 4,
 "nbformat_minor": 5
}
