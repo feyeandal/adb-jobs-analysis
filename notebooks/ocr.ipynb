{
 "cells": [
  {
   "cell_type": "markdown",
   "id": "b6a90638",
   "metadata": {},
   "source": [
    "### Import the Packages"
   ]
  },
  {
   "cell_type": "markdown",
   "id": "b08fa6d4",
   "metadata": {},
   "source": [
    "\n",
    "#### Consider parallelizing: \n",
    "\n",
    "https://appliedmachinelearning.blog/2018/06/30/performing-ocr-by-running-parallel-instances-of-tesseract-4-0-python"
   ]
  },
  {
   "cell_type": "code",
   "execution_count": 1,
   "id": "9f01e5e2",
   "metadata": {},
   "outputs": [],
   "source": [
    "import pandas as pd\n",
    "import time\n",
    "import pytesseract\n",
    "import os\n",
    "import ocr\n",
    "from pathlib import Path"
   ]
  },
  {
   "cell_type": "code",
   "execution_count": 2,
   "id": "55e4c4b7",
   "metadata": {},
   "outputs": [],
   "source": [
    "pytesseract.pytesseract.tesseract_cmd = r'C:\\Program Files\\Tesseract-OCR\\tesseract'"
   ]
  },
  {
   "cell_type": "code",
   "execution_count": 3,
   "id": "df8cb320",
   "metadata": {},
   "outputs": [],
   "source": [
    "def extract_text(n): # This probably doesn't need an elaborate funciton description\n",
    "    \"\"\" returns a list containing OCR'd text from a given directory\"\"\"\n",
    "    \n",
    "    if os.getcwd() != Path('../data/cs_sample'):\n",
    "        os.chdir('../data/cs_sample')\n",
    "    \n",
    "    image2text = []\n",
    "    \n",
    "    for vacancy in os.listdir()[:n]:\n",
    "        text = pytesseract.image_to_string(vacancy)\n",
    "        image2text.append({vacancy: text})\n",
    "\n",
    "    return image2text"
   ]
  },
  {
   "cell_type": "code",
   "execution_count": null,
   "id": "6e4dcf60",
   "metadata": {},
   "outputs": [],
   "source": []
  }
 ],
 "metadata": {
  "kernelspec": {
   "display_name": "Python 3",
   "language": "python",
   "name": "python3"
  },
  "language_info": {
   "codemirror_mode": {
    "name": "ipython",
    "version": 3
   },
   "file_extension": ".py",
   "mimetype": "text/x-python",
   "name": "python",
   "nbconvert_exporter": "python",
   "pygments_lexer": "ipython3",
   "version": "3.8.8"
  }
 },
 "nbformat": 4,
 "nbformat_minor": 5
}
