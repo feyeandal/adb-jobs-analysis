{
 "cells": [
  {
   "cell_type": "markdown",
   "id": "73b62a03",
   "metadata": {},
   "source": [
    "[![Topic Modeling in Python](https://img.youtube.com/vi/N0crN8YnF8Y/0.jpg)](https://www.youtube.com/watch?v=N0crN8YnF8Y&list=PL2VXyKi-KpYttggRATQVmgFcQst3z6OlX)"
   ]
  },
  {
   "cell_type": "markdown",
   "id": "b9de2e54",
   "metadata": {},
   "source": [
    "# Imports 1\n",
    "import os\n",
    "import re\n",
    "import requests\n",
    "import shutil\n",
    "import pandas as pd\n",
    "from PIL import Image\n",
    "import pytesseract\n",
    "import time\n",
    "import numpy as np\n",
    "from pprint import pprint"
   ]
  },
  {
   "cell_type": "code",
   "execution_count": 2,
   "id": "b6ac4c96",
   "metadata": {},
   "outputs": [],
   "source": [
    "# Imports 2\n",
    "import os\n",
    "from os.path import isfile, join\n",
    "from pathlib import Path\n",
    "import matplotlib.pyplot as plt\n",
    "%matplotlib inline\n",
    "import seaborn as sns\n",
    "sns.set()\n",
    "import datetime"
   ]
  },
  {
   "cell_type": "code",
   "execution_count": 3,
   "id": "2280d77a",
   "metadata": {},
   "outputs": [],
   "source": [
    "# Import 3 - Gensim\n",
    "import gensim\n",
    "import gensim.corpora as corpora\n",
    "from gensim.utils import simple_preprocess\n",
    "from gensim.models import CoherenceModel"
   ]
  },
  {
   "cell_type": "code",
   "execution_count": 4,
   "id": "60f0fdc9",
   "metadata": {},
   "outputs": [],
   "source": [
    "# Import spacy for lemmatization\n",
    "import spacy\n",
    "from gensim.models.wrappers import LdaMallet\n",
    "os.environ.update({'MALLET_HOME':r'C:/mallet-2.0.8/'}) \n",
    "\n",
    "#You should update this path as per the path of Mallet directory on your system.\n",
    "new_mallet_path = r'C:/new_mallet/mallet-2.0.8/bin/mallet'"
   ]
  },
  {
   "cell_type": "code",
   "execution_count": 5,
   "id": "606386fe",
   "metadata": {},
   "outputs": [],
   "source": [
    "def sent_to_words(sentences):\n",
    "    for sentence in sentences:\n",
    "        yield(gensim.utils.simple_preprocess(sentence))"
   ]
  },
  {
   "cell_type": "markdown",
   "id": "32982668",
   "metadata": {},
   "source": [
    "### Steps of the process"
   ]
  },
  {
   "cell_type": "markdown",
   "id": "91d5c9fa",
   "metadata": {},
   "source": [
    "1. load the relevant datafarme\n",
    "2. Takes the column\n",
    "3. Runs the relevant opertions on the column\n"
   ]
  },
  {
   "cell_type": "code",
   "execution_count": null,
   "id": "fd7f7edb",
   "metadata": {},
   "outputs": [],
   "source": []
  },
  {
   "cell_type": "code",
   "execution_count": null,
   "id": "49c97153",
   "metadata": {},
   "outputs": [],
   "source": []
  },
  {
   "cell_type": "code",
   "execution_count": null,
   "id": "2c2abb19",
   "metadata": {},
   "outputs": [],
   "source": []
  },
  {
   "cell_type": "code",
   "execution_count": null,
   "id": "93d2f2fa",
   "metadata": {},
   "outputs": [],
   "source": []
  },
  {
   "cell_type": "code",
   "execution_count": null,
   "id": "6d5fe3cf",
   "metadata": {},
   "outputs": [],
   "source": []
  },
  {
   "cell_type": "code",
   "execution_count": null,
   "id": "73733417",
   "metadata": {},
   "outputs": [],
   "source": []
  },
  {
   "cell_type": "code",
   "execution_count": null,
   "id": "339f5fcc",
   "metadata": {},
   "outputs": [],
   "source": [
    "tokens_20_cs_cf = list(sent_to_words(i2t_cleaned_20_cs_cf))"
   ]
  },
  {
   "cell_type": "code",
   "execution_count": 6,
   "id": "bbf11953",
   "metadata": {},
   "outputs": [
    {
     "name": "stderr",
     "output_type": "stream",
     "text": [
      "[nltk_data] Downloading package stopwords to\n",
      "[nltk_data]     C:\\Users\\Merl\\AppData\\Roaming\\nltk_data...\n",
      "[nltk_data]   Unzipping corpora\\stopwords.zip.\n"
     ]
    },
    {
     "data": {
      "text/plain": [
       "True"
      ]
     },
     "execution_count": 6,
     "metadata": {},
     "output_type": "execute_result"
    }
   ],
   "source": [
    "import nltk\n",
    "nltk.download('stopwords')"
   ]
  },
  {
   "cell_type": "code",
   "execution_count": null,
   "id": "935eb0f2",
   "metadata": {},
   "outputs": [],
   "source": [
    "# NLTK Stop words\n",
    "from nltk.corpus import stopwords\n",
    "stop_words_nltk = stopwords.words('english')\n",
    "\n",
    "# SKLEARN Stop Words\n",
    "# from sklearn.feature_extraction.stop_words import ENGLISH_STOP_WORDS\n",
    "# stop_words_sklearn = list(ENGLISH_STOP_WORDS)\n",
    "\n",
    "def remove_stopwords(texts, csw_list=None, csw_stopwords=False):\n",
    "    \n",
    "    #append the relevant custom stopword list to the standard stop word list\n",
    "    if csw_stopwords == True:\n",
    "        stop_words = stop_words_nltk + csw_list\n",
    "    else:\n",
    "        stop_words = stop_words_nltk\n",
    "        \n",
    "    return [[word for word in simple_preprocess(str(doc)) if word not in stop_words] for doc in texts]"
   ]
  },
  {
   "cell_type": "code",
   "execution_count": null,
   "id": "5bed4519",
   "metadata": {},
   "outputs": [],
   "source": [
    "def make_bigrams(tokens, bigram):\n",
    "    \n",
    "    bigram_mod = gensim.models.phrases.Phraser(bigram)\n",
    "    \n",
    "    return [bigram_mod[doc] for doc in tokens]\n",
    "\n",
    "def make_trigrams(tokens, trigram, bigram):\n",
    "    \n",
    "    bigram_mod = gensim.models.phrases.Phraser(bigram)\n",
    "    trigram_mod = gensim.models.phrases.Phraser(trigram)\n",
    "    \n",
    "    return [trigram_mod[bigram_mod[doc]] for doc in tokens]"
   ]
  },
  {
   "cell_type": "code",
   "execution_count": null,
   "id": "2ff4d0f7",
   "metadata": {},
   "outputs": [],
   "source": [
    "def lemmatization(tokens, allowed_postags=[\"NOUN\", \"ADJ\", \"VERB\", \"ADV\"]):\n",
    "    \"\"\"https://spacy.io/api/annotation\"\"\"\n",
    "    texts_out = []\n",
    "    for sent in tokens:\n",
    "        doc = nlp(\" \".join(sent)) \n",
    "        texts_out.append([token.lemma_ for token in doc if token.pos_ in allowed_postags])\n",
    "    return texts_out"
   ]
  },
  {
   "cell_type": "code",
   "execution_count": null,
   "id": "7538fd2b",
   "metadata": {},
   "outputs": [],
   "source": [
    "tokens_nostops_20_cs_cf = remove_stopwords(tokens_20_cs_cf, csw_20_cs_cf, csw_stopwords=True)\n",
    "\n",
    "tokens_bigrams_20_cs_cf = make_bigrams(tokens_nostops_20_cs_cf, bigram_20_cs_cf)"
   ]
  },
  {
   "cell_type": "markdown",
   "id": "73c79a02",
   "metadata": {},
   "source": [
    "###### Lemmatization keeping only noun, adj, vb, adv"
   ]
  },
  {
   "cell_type": "code",
   "execution_count": null,
   "id": "a1979179",
   "metadata": {},
   "outputs": [],
   "source": [
    "nlp = spacy.load('en_core_web_sm', disable=['parser', 'ner'])\n",
    "\n",
    "tokens_lemmatized_20_cs_cf = lemmatization(tokens_bigrams_20_cs_cf)\n",
    "\n"
   ]
  },
  {
   "cell_type": "code",
   "execution_count": null,
   "id": "d45bc3df",
   "metadata": {},
   "outputs": [],
   "source": [
    "# Create Dictionary\n",
    "id2word_20_cs_cf = corpora.Dictionary(tokens_lemmatized_20_cs_cf)\n",
    "\n",
    "# Create Corpus (a list of documents)\n",
    "texts_20_cs_cf = tokens_lemmatized_20_cs_cf\n",
    "\n",
    "# Term Document Frequency\n",
    "corpus_20_cs_cf = [id2word_20_cs_cf.doc2bow(text) for text in texts_20_cs_cf]\n",
    "\n",
    "\n",
    "# Build LDA model\n",
    "lda_model_20_cs_cf = gensim.models.ldamodel.LdaModel(corpus=corpus_20_cs_cf,\n",
    "                                           id2word=id2word_20_cs_cf,\n",
    "                                           num_topics=25, \n",
    "                                           random_state=100,\n",
    "                                           update_every=10,\n",
    "                                           chunksize=100,\n",
    "                                           passes=10,\n",
    "                                           alpha='auto',\n",
    "                                           per_word_topics=True)"
   ]
  },
  {
   "cell_type": "code",
   "execution_count": null,
   "id": "5e263731",
   "metadata": {},
   "outputs": [],
   "source": []
  },
  {
   "cell_type": "code",
   "execution_count": null,
   "id": "c1df1d0c",
   "metadata": {},
   "outputs": [],
   "source": [
    "#Print the Keyword in the 20 topics\n",
    "pprint(lda_model_20_cs_cf.print_topics())"
   ]
  },
  {
   "cell_type": "code",
   "execution_count": null,
   "id": "a942628a",
   "metadata": {},
   "outputs": [],
   "source": [
    "#Function to alculate coherence score\n",
    "def get_coherence(model, texts, dictionary, coherence=\"c_v\"):\n",
    "    \n",
    "    #coherence score\n",
    "    coherence_model = CoherenceModel(model=model, texts=texts, dictionary=dictionary, coherence='c_v')\n",
    "    coherence = coherence_model.get_c\n",
    "    oherence()\n",
    "    \n",
    "    return coherence"
   ]
  },
  {
   "cell_type": "code",
   "execution_count": null,
   "id": "9f98e40a",
   "metadata": {},
   "outputs": [],
   "source": [
    "# Calculate coherence score\n",
    "coherence_score_lda_20_cs_cf = coherence_model_lda_20_cs_cf.get_coherence()\n",
    "print('\\nCoherence Score: ', coherence_score_lda_20_cs_cf)"
   ]
  },
  {
   "cell_type": "code",
   "execution_count": null,
   "id": "dd07d831",
   "metadata": {},
   "outputs": [],
   "source": []
  }
 ],
 "metadata": {
  "kernelspec": {
   "display_name": "Python 3",
   "language": "python",
   "name": "python3"
  },
  "language_info": {
   "codemirror_mode": {
    "name": "ipython",
    "version": 3
   },
   "file_extension": ".py",
   "mimetype": "text/x-python",
   "name": "python",
   "nbconvert_exporter": "python",
   "pygments_lexer": "ipython3",
   "version": "3.8.8"
  }
 },
 "nbformat": 4,
 "nbformat_minor": 5
}
