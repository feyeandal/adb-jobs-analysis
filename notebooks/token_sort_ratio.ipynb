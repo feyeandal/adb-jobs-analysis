{
 "cells": [
  {
   "cell_type": "code",
   "execution_count": 1,
   "id": "98499e5c",
   "metadata": {},
   "outputs": [
    {
     "data": {
      "text/plain": [
       "'/mnt/e/ADB_Project/github/adb-jobs-analysis/notebooks'"
      ]
     },
     "execution_count": 1,
     "metadata": {},
     "output_type": "execute_result"
    }
   ],
   "source": [
    "pwd()"
   ]
  },
  {
   "cell_type": "code",
   "execution_count": 2,
   "id": "44bae106",
   "metadata": {},
   "outputs": [],
   "source": [
    "import os"
   ]
  },
  {
   "cell_type": "code",
   "execution_count": 3,
   "id": "4d31451f",
   "metadata": {},
   "outputs": [],
   "source": [
    "os.chdir(r\"/mnt/e/ADB_Project/github/adb-jobs-analysis/src\")"
   ]
  },
  {
   "cell_type": "code",
   "execution_count": 6,
   "id": "ad4afaa3",
   "metadata": {},
   "outputs": [
    {
     "data": {
      "text/plain": [
       "'/mnt/e/ADB_Project/github/adb-jobs-analysis/src'"
      ]
     },
     "execution_count": 6,
     "metadata": {},
     "output_type": "execute_result"
    }
   ],
   "source": [
    "pwd()\n"
   ]
  },
  {
   "cell_type": "code",
   "execution_count": 10,
   "id": "126da41c",
   "metadata": {},
   "outputs": [],
   "source": [
    "import ocr_extraction"
   ]
  },
  {
   "cell_type": "code",
   "execution_count": 11,
   "id": "8a8992f7",
   "metadata": {},
   "outputs": [
    {
     "name": "stdout",
     "output_type": "stream",
     "text": [
      "Tesseract Failure: 590492.jpg\n",
      "Tesseract Failure: 600087.png\n",
      "Tesseract Failure: 601828.jpg\n",
      "Tesseract Failure: 601838.jpg\n",
      "Tesseract Failure: 602009.jpg\n",
      "Tesseract Failure: 602186.png\n",
      "Tesseract Failure: 602397.jpg\n",
      "Tesseract Failure: 602768.png\n",
      "Tesseract Failure: 602769.png\n",
      "Tesseract Failure: 603018.png\n",
      "Tesseract Failure: 603331.png\n",
      "Tesseract Failure: 603518.jpg\n",
      "Tesseract Failure: 603522.jpg\n",
      "Tesseract Failure: 603898.png\n",
      "Tesseract Failure: 604075.jpg\n",
      "Tesseract Failure: 604585.png\n",
      "Tesseract Failure: 605118.png\n",
      "Tesseract Failure: 605483.png\n",
      "Tesseract Failure: 605740.png\n",
      "Tesseract Failure: 605808.png\n",
      "Tesseract Failure: 605854.jpg\n",
      "Tesseract Failure: 606315.jpg\n",
      "Tesseract Failure: 606474.png\n",
      "Tesseract Failure: 606489.png\n",
      "Tesseract Failure: 606529.png\n",
      "Tesseract Failure: 606730.jpg\n",
      "Tesseract Failure: 606820.jpg\n",
      "Tesseract Failure: 606873.jpg\n",
      "Tesseract Failure: 606947.png\n",
      "Tesseract Failure: 606992.png\n"
     ]
    },
    {
     "ename": "NameError",
     "evalue": "name 'pd' is not defined",
     "output_type": "error",
     "traceback": [
      "\u001b[0;31m---------------------------------------------------------------------------\u001b[0m",
      "\u001b[0;31mNameError\u001b[0m                                 Traceback (most recent call last)",
      "Cell \u001b[0;32mIn [11], line 2\u001b[0m\n\u001b[1;32m      1\u001b[0m text \u001b[38;5;241m=\u001b[39m ocr_extraction\u001b[38;5;241m.\u001b[39mextract_bulk(\u001b[38;5;124mr\u001b[39m\u001b[38;5;124m\"\u001b[39m\u001b[38;5;124m/mnt/e/ADB_Project/data/cs_sample_ocr\u001b[39m\u001b[38;5;124m\"\u001b[39m)\n\u001b[0;32m----> 2\u001b[0m ocr_df \u001b[38;5;241m=\u001b[39m pd\u001b[38;5;241m.\u001b[39mDataFrame(text, columns\u001b[38;5;241m=\u001b[39m[\u001b[38;5;124m\"\u001b[39m\u001b[38;5;124mvacancy_id\u001b[39m\u001b[38;5;124m\"\u001b[39m, \u001b[38;5;124m\"\u001b[39m\u001b[38;5;124mfile_path\u001b[39m\u001b[38;5;124m\"\u001b[39m, \u001b[38;5;124m\"\u001b[39m\u001b[38;5;124mocrd_text\u001b[39m\u001b[38;5;124m\"\u001b[39m])\n",
      "\u001b[0;31mNameError\u001b[0m: name 'pd' is not defined"
     ]
    }
   ],
   "source": [
    "text = ocr_extraction.extract_bulk(r\"/mnt/e/ADB_Project/data/cs_sample_ocr\")\n",
    "ocr_df = pd.DataFrame(text, columns=[\"vacancy_id\", \"file_path\", \"ocrd_text\"])"
   ]
  },
  {
   "cell_type": "code",
   "execution_count": null,
   "id": "fe2c2cd8",
   "metadata": {},
   "outputs": [],
   "source": [
    "import Levenshtein as lev\n",
    "Str1 = \"Back\"\n",
    "Str2 = \"Book\"\n",
    "lev.distance(Str1.lower(),Str2.lower())"
   ]
  },
  {
   "cell_type": "code",
   "execution_count": null,
   "id": "c938ca27",
   "metadata": {},
   "outputs": [],
   "source": []
  }
 ],
 "metadata": {
  "kernelspec": {
   "display_name": "Python 3 (ipykernel)",
   "language": "python",
   "name": "python3"
  },
  "language_info": {
   "codemirror_mode": {
    "name": "ipython",
    "version": 3
   },
   "file_extension": ".py",
   "mimetype": "text/x-python",
   "name": "python",
   "nbconvert_exporter": "python",
   "pygments_lexer": "ipython3",
   "version": "3.8.10"
  }
 },
 "nbformat": 4,
 "nbformat_minor": 5
}
