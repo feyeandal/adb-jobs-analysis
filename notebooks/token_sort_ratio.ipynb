{
 "cells": [
  {
   "cell_type": "code",
   "execution_count": 1,
   "id": "494a03bd",
   "metadata": {},
   "outputs": [],
   "source": [
    "import os\n",
    "import Levenshtein as lev\n",
    "from fuzzywuzzy import fuzz\n",
    "import pandas as pd\n",
    "import numpy as np"
   ]
  },
  {
   "cell_type": "code",
   "execution_count": 7,
   "id": "4d31451f",
   "metadata": {},
   "outputs": [],
   "source": [
    "os.chdir(r\"E:/ADB_Project/github/adb-jobs-analysis/src\")"
   ]
  },
  {
   "cell_type": "code",
   "execution_count": 9,
   "id": "126da41c",
   "metadata": {},
   "outputs": [],
   "source": [
    "import ocr_extraction"
   ]
  },
  {
   "cell_type": "code",
   "execution_count": 10,
   "id": "cce819c2",
   "metadata": {},
   "outputs": [],
   "source": [
    "text = ocr_extraction.extract_bulk(r\"E:/ADB_Project/data/cs_sample_ocr\")\n",
    "ocr_df = pd.DataFrame(text, columns=[\"vacancy_id\", \"file_path\", \"ocrd_text\"])\n",
    "ocr_df.head(3)"
   ]
  },
  {
   "cell_type": "code",
   "execution_count": 13,
   "id": "f877c2da",
   "metadata": {},
   "outputs": [],
   "source": [
    "ocr_df[\"vacancy_id\"] = pd.to_numeric(ocr_df.vacancy_id, downcast='integer')"
   ]
  },
  {
   "cell_type": "code",
   "execution_count": 14,
   "id": "6bb56408",
   "metadata": {},
   "outputs": [],
   "source": [
    "tdf = pd.read_csv(r\"E:/ADB_Project/github/adb-jobs-analysis/data/ImageTransrciptions.csv\")"
   ]
  },
  {
   "cell_type": "code",
   "execution_count": 16,
   "id": "fe2c2cd8",
   "metadata": {},
   "outputs": [
    {
     "data": {
      "text/html": [
       "<div>\n",
       "<style scoped>\n",
       "    .dataframe tbody tr th:only-of-type {\n",
       "        vertical-align: middle;\n",
       "    }\n",
       "\n",
       "    .dataframe tbody tr th {\n",
       "        vertical-align: top;\n",
       "    }\n",
       "\n",
       "    .dataframe thead th {\n",
       "        text-align: right;\n",
       "    }\n",
       "</style>\n",
       "<table border=\"1\" class=\"dataframe\">\n",
       "  <thead>\n",
       "    <tr style=\"text-align: right;\">\n",
       "      <th></th>\n",
       "      <th>image_id</th>\n",
       "      <th>transcribed_text</th>\n",
       "    </tr>\n",
       "  </thead>\n",
       "  <tbody>\n",
       "    <tr>\n",
       "      <th>0</th>\n",
       "      <td>590492</td>\n",
       "      <td>We have opportunities for:\\n.Net Architect\\nRe...</td>\n",
       "    </tr>\n",
       "    <tr>\n",
       "      <th>1</th>\n",
       "      <td>600087</td>\n",
       "      <td>iOS DEVELOPER\\nS. A. Knowledge Services (SAKS)...</td>\n",
       "    </tr>\n",
       "    <tr>\n",
       "      <th>2</th>\n",
       "      <td>601828</td>\n",
       "      <td>MOBIZZ\\nWE UNDERSTAND\\nRIGHT\\nPeople\\nJob Oppo...</td>\n",
       "    </tr>\n",
       "    <tr>\n",
       "      <th>3</th>\n",
       "      <td>601838</td>\n",
       "      <td>MOBIZZ\\nWE UNDERSTAND\\nRIGHT\\nPeople\\nJob Oppo...</td>\n",
       "    </tr>\n",
       "    <tr>\n",
       "      <th>4</th>\n",
       "      <td>602009</td>\n",
       "      <td>Senior Software Engineer - Java\\nOur client wh...</td>\n",
       "    </tr>\n",
       "  </tbody>\n",
       "</table>\n",
       "</div>"
      ],
      "text/plain": [
       "   image_id                                   transcribed_text\n",
       "0    590492  We have opportunities for:\\n.Net Architect\\nRe...\n",
       "1    600087  iOS DEVELOPER\\nS. A. Knowledge Services (SAKS)...\n",
       "2    601828  MOBIZZ\\nWE UNDERSTAND\\nRIGHT\\nPeople\\nJob Oppo...\n",
       "3    601838  MOBIZZ\\nWE UNDERSTAND\\nRIGHT\\nPeople\\nJob Oppo...\n",
       "4    602009  Senior Software Engineer - Java\\nOur client wh..."
      ]
     },
     "execution_count": 16,
     "metadata": {},
     "output_type": "execute_result"
    }
   ],
   "source": [
    "tdf.head()"
   ]
  },
  {
   "cell_type": "markdown",
   "id": "da90554a",
   "metadata": {},
   "source": [
    "### Merge OCR output dataframe with Hand-Transcribed File"
   ]
  },
  {
   "cell_type": "markdown",
   "id": "225e1c80",
   "metadata": {},
   "source": [
    "df = ocr_df.merge(tdf, left_on='vacancy_id', right_on='image_id')"
   ]
  },
  {
   "cell_type": "code",
   "execution_count": 18,
   "id": "c3c180d1",
   "metadata": {},
   "outputs": [
    {
     "data": {
      "text/html": [
       "<div>\n",
       "<style scoped>\n",
       "    .dataframe tbody tr th:only-of-type {\n",
       "        vertical-align: middle;\n",
       "    }\n",
       "\n",
       "    .dataframe tbody tr th {\n",
       "        vertical-align: top;\n",
       "    }\n",
       "\n",
       "    .dataframe thead th {\n",
       "        text-align: right;\n",
       "    }\n",
       "</style>\n",
       "<table border=\"1\" class=\"dataframe\">\n",
       "  <thead>\n",
       "    <tr style=\"text-align: right;\">\n",
       "      <th></th>\n",
       "      <th>vacancy_id</th>\n",
       "      <th>file_path</th>\n",
       "      <th>ocrd_text</th>\n",
       "      <th>image_id</th>\n",
       "      <th>transcribed_text</th>\n",
       "    </tr>\n",
       "  </thead>\n",
       "  <tbody>\n",
       "    <tr>\n",
       "      <th>0</th>\n",
       "      <td>590492</td>\n",
       "      <td>E:/ADB_Project/data/cs_sample_ocr/590492.jpg</td>\n",
       "      <td>Net Architect\\n\\n8+ years of Hands on experien...</td>\n",
       "      <td>590492</td>\n",
       "      <td>We have opportunities for:\\n.Net Architect\\nRe...</td>\n",
       "    </tr>\n",
       "    <tr>\n",
       "      <th>1</th>\n",
       "      <td>600087</td>\n",
       "      <td>E:/ADB_Project/data/cs_sample_ocr/600087.png</td>\n",
       "      <td>\\n\\niOS DEVELOPER\\n\\nS.A. Knowledge Services ...</td>\n",
       "      <td>600087</td>\n",
       "      <td>iOS DEVELOPER\\nS. A. Knowledge Services (SAKS)...</td>\n",
       "    </tr>\n",
       "    <tr>\n",
       "      <th>2</th>\n",
       "      <td>601828</td>\n",
       "      <td>E:/ADB_Project/data/cs_sample_ocr/601828.jpg</td>\n",
       "      <td>(M\\n\\nMOBIZZ\\nWE UNDERSTAND\\n= People\\n]@ss Jo...</td>\n",
       "      <td>601828</td>\n",
       "      <td>MOBIZZ\\nWE UNDERSTAND\\nRIGHT\\nPeople\\nJob Oppo...</td>\n",
       "    </tr>\n",
       "    <tr>\n",
       "      <th>3</th>\n",
       "      <td>601838</td>\n",
       "      <td>E:/ADB_Project/data/cs_sample_ocr/601838.jpg</td>\n",
       "      <td>ps\\n\\nWE UNDERSTAND\\n= People\\n\\n]@ss Job Oppo...</td>\n",
       "      <td>601838</td>\n",
       "      <td>MOBIZZ\\nWE UNDERSTAND\\nRIGHT\\nPeople\\nJob Oppo...</td>\n",
       "    </tr>\n",
       "    <tr>\n",
       "      <th>4</th>\n",
       "      <td>602009</td>\n",
       "      <td>E:/ADB_Project/data/cs_sample_ocr/602009.jpg</td>\n",
       "      <td>Senior Software Engineer - Java\\n\\nOur client ...</td>\n",
       "      <td>602009</td>\n",
       "      <td>Senior Software Engineer - Java\\nOur client wh...</td>\n",
       "    </tr>\n",
       "  </tbody>\n",
       "</table>\n",
       "</div>"
      ],
      "text/plain": [
       "   vacancy_id                                     file_path  \\\n",
       "0      590492  E:/ADB_Project/data/cs_sample_ocr/590492.jpg   \n",
       "1      600087  E:/ADB_Project/data/cs_sample_ocr/600087.png   \n",
       "2      601828  E:/ADB_Project/data/cs_sample_ocr/601828.jpg   \n",
       "3      601838  E:/ADB_Project/data/cs_sample_ocr/601838.jpg   \n",
       "4      602009  E:/ADB_Project/data/cs_sample_ocr/602009.jpg   \n",
       "\n",
       "                                           ocrd_text  image_id  \\\n",
       "0  Net Architect\\n\\n8+ years of Hands on experien...    590492   \n",
       "1   \\n\\niOS DEVELOPER\\n\\nS.A. Knowledge Services ...    600087   \n",
       "2  (M\\n\\nMOBIZZ\\nWE UNDERSTAND\\n= People\\n]@ss Jo...    601828   \n",
       "3  ps\\n\\nWE UNDERSTAND\\n= People\\n\\n]@ss Job Oppo...    601838   \n",
       "4  Senior Software Engineer - Java\\n\\nOur client ...    602009   \n",
       "\n",
       "                                    transcribed_text  \n",
       "0  We have opportunities for:\\n.Net Architect\\nRe...  \n",
       "1  iOS DEVELOPER\\nS. A. Knowledge Services (SAKS)...  \n",
       "2  MOBIZZ\\nWE UNDERSTAND\\nRIGHT\\nPeople\\nJob Oppo...  \n",
       "3  MOBIZZ\\nWE UNDERSTAND\\nRIGHT\\nPeople\\nJob Oppo...  \n",
       "4  Senior Software Engineer - Java\\nOur client wh...  "
      ]
     },
     "execution_count": 18,
     "metadata": {},
     "output_type": "execute_result"
    }
   ],
   "source": [
    "df.head()"
   ]
  },
  {
   "cell_type": "code",
   "execution_count": 23,
   "id": "4295a546",
   "metadata": {},
   "outputs": [],
   "source": [
    "#Create token Sort Ration Column\n",
    "df[\"tsr\"] = df.apply(lambda x: fuzz.token_sort_ratio(x[\"ocrd_text\"], x[\"transcribed_text\"]), axis=1)"
   ]
  },
  {
   "cell_type": "code",
   "execution_count": 24,
   "id": "19f1a8f6",
   "metadata": {},
   "outputs": [
    {
     "data": {
      "text/html": [
       "<div>\n",
       "<style scoped>\n",
       "    .dataframe tbody tr th:only-of-type {\n",
       "        vertical-align: middle;\n",
       "    }\n",
       "\n",
       "    .dataframe tbody tr th {\n",
       "        vertical-align: top;\n",
       "    }\n",
       "\n",
       "    .dataframe thead th {\n",
       "        text-align: right;\n",
       "    }\n",
       "</style>\n",
       "<table border=\"1\" class=\"dataframe\">\n",
       "  <thead>\n",
       "    <tr style=\"text-align: right;\">\n",
       "      <th></th>\n",
       "      <th>vacancy_id</th>\n",
       "      <th>file_path</th>\n",
       "      <th>ocrd_text</th>\n",
       "      <th>image_id</th>\n",
       "      <th>transcribed_text</th>\n",
       "      <th>tsr</th>\n",
       "    </tr>\n",
       "  </thead>\n",
       "  <tbody>\n",
       "    <tr>\n",
       "      <th>0</th>\n",
       "      <td>590492</td>\n",
       "      <td>E:/ADB_Project/data/cs_sample_ocr/590492.jpg</td>\n",
       "      <td>Net Architect\\n\\n8+ years of Hands on experien...</td>\n",
       "      <td>590492</td>\n",
       "      <td>We have opportunities for:\\n.Net Architect\\nRe...</td>\n",
       "      <td>80</td>\n",
       "    </tr>\n",
       "    <tr>\n",
       "      <th>1</th>\n",
       "      <td>600087</td>\n",
       "      <td>E:/ADB_Project/data/cs_sample_ocr/600087.png</td>\n",
       "      <td>\\n\\niOS DEVELOPER\\n\\nS.A. Knowledge Services ...</td>\n",
       "      <td>600087</td>\n",
       "      <td>iOS DEVELOPER\\nS. A. Knowledge Services (SAKS)...</td>\n",
       "      <td>99</td>\n",
       "    </tr>\n",
       "    <tr>\n",
       "      <th>2</th>\n",
       "      <td>601828</td>\n",
       "      <td>E:/ADB_Project/data/cs_sample_ocr/601828.jpg</td>\n",
       "      <td>(M\\n\\nMOBIZZ\\nWE UNDERSTAND\\n= People\\n]@ss Jo...</td>\n",
       "      <td>601828</td>\n",
       "      <td>MOBIZZ\\nWE UNDERSTAND\\nRIGHT\\nPeople\\nJob Oppo...</td>\n",
       "      <td>100</td>\n",
       "    </tr>\n",
       "    <tr>\n",
       "      <th>3</th>\n",
       "      <td>601838</td>\n",
       "      <td>E:/ADB_Project/data/cs_sample_ocr/601838.jpg</td>\n",
       "      <td>ps\\n\\nWE UNDERSTAND\\n= People\\n\\n]@ss Job Oppo...</td>\n",
       "      <td>601838</td>\n",
       "      <td>MOBIZZ\\nWE UNDERSTAND\\nRIGHT\\nPeople\\nJob Oppo...</td>\n",
       "      <td>99</td>\n",
       "    </tr>\n",
       "    <tr>\n",
       "      <th>4</th>\n",
       "      <td>602009</td>\n",
       "      <td>E:/ADB_Project/data/cs_sample_ocr/602009.jpg</td>\n",
       "      <td>Senior Software Engineer - Java\\n\\nOur client ...</td>\n",
       "      <td>602009</td>\n",
       "      <td>Senior Software Engineer - Java\\nOur client wh...</td>\n",
       "      <td>96</td>\n",
       "    </tr>\n",
       "  </tbody>\n",
       "</table>\n",
       "</div>"
      ],
      "text/plain": [
       "   vacancy_id                                     file_path  \\\n",
       "0      590492  E:/ADB_Project/data/cs_sample_ocr/590492.jpg   \n",
       "1      600087  E:/ADB_Project/data/cs_sample_ocr/600087.png   \n",
       "2      601828  E:/ADB_Project/data/cs_sample_ocr/601828.jpg   \n",
       "3      601838  E:/ADB_Project/data/cs_sample_ocr/601838.jpg   \n",
       "4      602009  E:/ADB_Project/data/cs_sample_ocr/602009.jpg   \n",
       "\n",
       "                                           ocrd_text  image_id  \\\n",
       "0  Net Architect\\n\\n8+ years of Hands on experien...    590492   \n",
       "1   \\n\\niOS DEVELOPER\\n\\nS.A. Knowledge Services ...    600087   \n",
       "2  (M\\n\\nMOBIZZ\\nWE UNDERSTAND\\n= People\\n]@ss Jo...    601828   \n",
       "3  ps\\n\\nWE UNDERSTAND\\n= People\\n\\n]@ss Job Oppo...    601838   \n",
       "4  Senior Software Engineer - Java\\n\\nOur client ...    602009   \n",
       "\n",
       "                                    transcribed_text  tsr  \n",
       "0  We have opportunities for:\\n.Net Architect\\nRe...   80  \n",
       "1  iOS DEVELOPER\\nS. A. Knowledge Services (SAKS)...   99  \n",
       "2  MOBIZZ\\nWE UNDERSTAND\\nRIGHT\\nPeople\\nJob Oppo...  100  \n",
       "3  MOBIZZ\\nWE UNDERSTAND\\nRIGHT\\nPeople\\nJob Oppo...   99  \n",
       "4  Senior Software Engineer - Java\\nOur client wh...   96  "
      ]
     },
     "execution_count": 24,
     "metadata": {},
     "output_type": "execute_result"
    }
   ],
   "source": [
    "df.head()"
   ]
  },
  {
   "cell_type": "code",
   "execution_count": 28,
   "id": "b4dea43b",
   "metadata": {},
   "outputs": [
    {
     "data": {
      "text/plain": [
       "25"
      ]
     },
     "execution_count": 28,
     "metadata": {},
     "output_type": "execute_result"
    }
   ],
   "source": [
    "df[df[\"tsr\"]>80].shape[0]"
   ]
  },
  {
   "cell_type": "code",
   "execution_count": 27,
   "id": "e5689572",
   "metadata": {},
   "outputs": [
    {
     "data": {
      "image/png": "[encoded data removed]",
      "text/plain": [
       "<Figure size 640x480 with 1 Axes>"
      ]
     },
     "metadata": {},
     "output_type": "display_data"
    }
   ],
   "source": [
    "import matplotlib.pyplot as plt\n",
    "df['tsr'].plot(kind='hist', edgecolor='black')\n",
    "plt.show()"
   ]
  },
  {
   "cell_type": "code",
   "execution_count": null,
   "id": "4e134a78",
   "metadata": {},
   "outputs": [],
   "source": []
  }
 ],
 "metadata": {
  "kernelspec": {
   "display_name": "Python 3",
   "language": "python",
   "name": "python3"
  },
  "language_info": {
   "codemirror_mode": {
    "name": "ipython",
    "version": 3
   },
   "file_extension": ".py",
   "mimetype": "text/x-python",
   "name": "python",
   "nbconvert_exporter": "python",
   "pygments_lexer": "ipython3",
   "version": "3.8.8"
  }
 },
 "nbformat": 4,
 "nbformat_minor": 5
}
