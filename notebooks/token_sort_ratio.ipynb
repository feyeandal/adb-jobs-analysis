{
 "cells": [
  {
   "cell_type": "code",
   "execution_count": 2,
   "id": "98499e5c",
   "metadata": {},
   "outputs": [
    {
     "data": {
      "text/plain": [
       "'E:\\\\ADB_Project\\\\github\\\\adb-jobs-analysis\\\\notebooks'"
      ]
     },
     "execution_count": 2,
     "metadata": {},
     "output_type": "execute_result"
    }
   ],
   "source": [
    "pwd()"
   ]
  },
  {
   "cell_type": "code",
   "execution_count": 3,
   "id": "494a03bd",
   "metadata": {},
   "outputs": [],
   "source": [
    "import os"
   ]
  },
  {
   "cell_type": "code",
   "execution_count": 4,
   "id": "44bae106",
   "metadata": {},
   "outputs": [],
   "source": [
    "import Levenshtein as lev\n",
    "from fuzzywuzzy import fuzz"
   ]
  },
  {
   "cell_type": "code",
   "execution_count": 11,
   "id": "74ef9eb0",
   "metadata": {},
   "outputs": [],
   "source": [
    "import pandas as pd\n",
    "import numpy as np"
   ]
  },
  {
   "cell_type": "code",
   "execution_count": null,
   "id": "0836088f",
   "metadata": {},
   "outputs": [],
   "source": [
    "Str1 = \"Back\"\n",
    "Str2 = \"Book\"\n",
    "Ratio = fuzz.ratio(Str1.lower(),Str2.lower())\n",
    "print(Ratio)"
   ]
  },
  {
   "cell_type": "code",
   "execution_count": 5,
   "id": "4d31451f",
   "metadata": {},
   "outputs": [],
   "source": [
    "os.chdir(r\"E:/ADB_Project/github/adb-jobs-analysis/src\")"
   ]
  },
  {
   "cell_type": "code",
   "execution_count": 6,
   "id": "ad4afaa3",
   "metadata": {},
   "outputs": [
    {
     "data": {
      "text/plain": [
       "'E:\\\\ADB_Project\\\\github\\\\adb-jobs-analysis\\\\src'"
      ]
     },
     "execution_count": 6,
     "metadata": {},
     "output_type": "execute_result"
    }
   ],
   "source": [
    "pwd()\n"
   ]
  },
  {
   "cell_type": "code",
   "execution_count": 7,
   "id": "126da41c",
   "metadata": {},
   "outputs": [],
   "source": [
    "import ocr_extraction"
   ]
  },
  {
   "cell_type": "code",
   "execution_count": null,
   "id": "cce819c2",
   "metadata": {},
   "outputs": [],
   "source": [
    "text = ocr_extraction.extract_bulk(r\"E:/ADB_Project/data/cs_sample_ocr\")"
   ]
  },
  {
   "cell_type": "code",
   "execution_count": 10,
   "id": "90cf85d5",
   "metadata": {},
   "outputs": [],
   "source": [
    "ocr_df = pd.DataFrame(text, columns=[\"vacancy_id\", \"file_path\", \"ocrd_text\"])"
   ]
  },
  {
   "cell_type": "code",
   "execution_count": 16,
   "id": "2773a46f",
   "metadata": {},
   "outputs": [
    {
     "data": {
      "text/html": [
       "<div>\n",
       "<style scoped>\n",
       "    .dataframe tbody tr th:only-of-type {\n",
       "        vertical-align: middle;\n",
       "    }\n",
       "\n",
       "    .dataframe tbody tr th {\n",
       "        vertical-align: top;\n",
       "    }\n",
       "\n",
       "    .dataframe thead th {\n",
       "        text-align: right;\n",
       "    }\n",
       "</style>\n",
       "<table border=\"1\" class=\"dataframe\">\n",
       "  <thead>\n",
       "    <tr style=\"text-align: right;\">\n",
       "      <th></th>\n",
       "      <th>vacancy_id</th>\n",
       "      <th>file_path</th>\n",
       "      <th>ocrd_text</th>\n",
       "    </tr>\n",
       "  </thead>\n",
       "  <tbody>\n",
       "    <tr>\n",
       "      <th>0</th>\n",
       "      <td>590492</td>\n",
       "      <td>E:/ADB_Project/data/cs_sample_ocr/590492.jpg</td>\n",
       "      <td>Net Architect\\n\\n8+ years of Hands on experien...</td>\n",
       "    </tr>\n",
       "    <tr>\n",
       "      <th>1</th>\n",
       "      <td>600087</td>\n",
       "      <td>E:/ADB_Project/data/cs_sample_ocr/600087.png</td>\n",
       "      <td>\\n\\niOS DEVELOPER\\n\\nS.A. Knowledge Services ...</td>\n",
       "    </tr>\n",
       "    <tr>\n",
       "      <th>2</th>\n",
       "      <td>601828</td>\n",
       "      <td>E:/ADB_Project/data/cs_sample_ocr/601828.jpg</td>\n",
       "      <td>(M\\n\\nMOBIZZ\\nWE UNDERSTAND\\n= People\\n]@ss Jo...</td>\n",
       "    </tr>\n",
       "  </tbody>\n",
       "</table>\n",
       "</div>"
      ],
      "text/plain": [
       "  vacancy_id                                     file_path  \\\n",
       "0     590492  E:/ADB_Project/data/cs_sample_ocr/590492.jpg   \n",
       "1     600087  E:/ADB_Project/data/cs_sample_ocr/600087.png   \n",
       "2     601828  E:/ADB_Project/data/cs_sample_ocr/601828.jpg   \n",
       "\n",
       "                                           ocrd_text  \n",
       "0  Net Architect\\n\\n8+ years of Hands on experien...  \n",
       "1   \\n\\niOS DEVELOPER\\n\\nS.A. Knowledge Services ...  \n",
       "2  (M\\n\\nMOBIZZ\\nWE UNDERSTAND\\n= People\\n]@ss Jo...  "
      ]
     },
     "execution_count": 16,
     "metadata": {},
     "output_type": "execute_result"
    }
   ],
   "source": [
    "ocr_df.head(3)"
   ]
  },
  {
   "cell_type": "code",
   "execution_count": 22,
   "id": "36a477cd",
   "metadata": {},
   "outputs": [
    {
     "name": "stdout",
     "output_type": "stream",
     "text": [
      "<class 'pandas.core.frame.DataFrame'>\n",
      "RangeIndex: 30 entries, 0 to 29\n",
      "Data columns (total 3 columns):\n",
      " #   Column      Non-Null Count  Dtype \n",
      "---  ------      --------------  ----- \n",
      " 0   vacancy_id  30 non-null     object\n",
      " 1   file_path   30 non-null     object\n",
      " 2   ocrd_text   30 non-null     object\n",
      "dtypes: object(3)\n",
      "memory usage: 848.0+ bytes\n"
     ]
    }
   ],
   "source": [
    "ocr_df.info()"
   ]
  },
  {
   "cell_type": "code",
   "execution_count": 24,
   "id": "f877c2da",
   "metadata": {},
   "outputs": [],
   "source": [
    "ocr_df[\"vacancy_id\"] = pd.to_numeric(ocr_df.vacancy_id, downcast='integer')"
   ]
  },
  {
   "cell_type": "code",
   "execution_count": 17,
   "id": "6bb56408",
   "metadata": {},
   "outputs": [],
   "source": [
    "tdf = pd.read_csv(r\"E:/ADB_Project/github/adb-jobs-analysis/data/ImageTransrciptions.csv\")"
   ]
  },
  {
   "cell_type": "code",
   "execution_count": 20,
   "id": "2d7a4c69",
   "metadata": {},
   "outputs": [
    {
     "name": "stdout",
     "output_type": "stream",
     "text": [
      "<class 'pandas.core.frame.DataFrame'>\n",
      "RangeIndex: 30 entries, 0 to 29\n",
      "Data columns (total 2 columns):\n",
      " #   Column            Non-Null Count  Dtype \n",
      "---  ------            --------------  ----- \n",
      " 0   image_id          30 non-null     int64 \n",
      " 1   transcribed_text  30 non-null     object\n",
      "dtypes: int64(1), object(1)\n",
      "memory usage: 608.0+ bytes\n"
     ]
    }
   ],
   "source": [
    "tdf.info()"
   ]
  },
  {
   "cell_type": "code",
   "execution_count": 18,
   "id": "fe2c2cd8",
   "metadata": {},
   "outputs": [
    {
     "data": {
      "text/html": [
       "<div>\n",
       "<style scoped>\n",
       "    .dataframe tbody tr th:only-of-type {\n",
       "        vertical-align: middle;\n",
       "    }\n",
       "\n",
       "    .dataframe tbody tr th {\n",
       "        vertical-align: top;\n",
       "    }\n",
       "\n",
       "    .dataframe thead th {\n",
       "        text-align: right;\n",
       "    }\n",
       "</style>\n",
       "<table border=\"1\" class=\"dataframe\">\n",
       "  <thead>\n",
       "    <tr style=\"text-align: right;\">\n",
       "      <th></th>\n",
       "      <th>image_id</th>\n",
       "      <th>transcribed_text</th>\n",
       "    </tr>\n",
       "  </thead>\n",
       "  <tbody>\n",
       "    <tr>\n",
       "      <th>0</th>\n",
       "      <td>590492</td>\n",
       "      <td>We have opportunities for:\\n.Net Architect\\nRe...</td>\n",
       "    </tr>\n",
       "    <tr>\n",
       "      <th>1</th>\n",
       "      <td>600087</td>\n",
       "      <td>iOS DEVELOPER\\nS. A. Knowledge Services (SAKS)...</td>\n",
       "    </tr>\n",
       "    <tr>\n",
       "      <th>2</th>\n",
       "      <td>601828</td>\n",
       "      <td>MOBIZZ\\nWE UNDERSTAND\\nRIGHT\\nPeople\\nJob Oppo...</td>\n",
       "    </tr>\n",
       "    <tr>\n",
       "      <th>3</th>\n",
       "      <td>601838</td>\n",
       "      <td>MOBIZZ\\nWE UNDERSTAND\\nRIGHT\\nPeople\\nJob Oppo...</td>\n",
       "    </tr>\n",
       "    <tr>\n",
       "      <th>4</th>\n",
       "      <td>602009</td>\n",
       "      <td>Senior Software Engineer - Java\\nOur client wh...</td>\n",
       "    </tr>\n",
       "  </tbody>\n",
       "</table>\n",
       "</div>"
      ],
      "text/plain": [
       "   image_id                                   transcribed_text\n",
       "0    590492  We have opportunities for:\\n.Net Architect\\nRe...\n",
       "1    600087  iOS DEVELOPER\\nS. A. Knowledge Services (SAKS)...\n",
       "2    601828  MOBIZZ\\nWE UNDERSTAND\\nRIGHT\\nPeople\\nJob Oppo...\n",
       "3    601838  MOBIZZ\\nWE UNDERSTAND\\nRIGHT\\nPeople\\nJob Oppo...\n",
       "4    602009  Senior Software Engineer - Java\\nOur client wh..."
      ]
     },
     "execution_count": 18,
     "metadata": {},
     "output_type": "execute_result"
    }
   ],
   "source": [
    "tdf.head()"
   ]
  },
  {
   "cell_type": "code",
   "execution_count": 21,
   "id": "1383e647",
   "metadata": {},
   "outputs": [
    {
     "name": "stdout",
     "output_type": "stream",
     "text": [
      "<class 'pandas.core.frame.DataFrame'>\n",
      "RangeIndex: 30 entries, 0 to 29\n",
      "Data columns (total 2 columns):\n",
      " #   Column            Non-Null Count  Dtype \n",
      "---  ------            --------------  ----- \n",
      " 0   image_id          30 non-null     int64 \n",
      " 1   transcribed_text  30 non-null     object\n",
      "dtypes: int64(1), object(1)\n",
      "memory usage: 608.0+ bytes\n"
     ]
    }
   ],
   "source": [
    "tdf.info()"
   ]
  },
  {
   "cell_type": "code",
   "execution_count": 25,
   "id": "c938ca27",
   "metadata": {},
   "outputs": [],
   "source": [
    "df = ocr_df.merge(tdf, left_on='vacancy_id', right_on='image_id')"
   ]
  },
  {
   "cell_type": "code",
   "execution_count": 26,
   "id": "c3c180d1",
   "metadata": {},
   "outputs": [
    {
     "data": {
      "text/html": [
       "<div>\n",
       "<style scoped>\n",
       "    .dataframe tbody tr th:only-of-type {\n",
       "        vertical-align: middle;\n",
       "    }\n",
       "\n",
       "    .dataframe tbody tr th {\n",
       "        vertical-align: top;\n",
       "    }\n",
       "\n",
       "    .dataframe thead th {\n",
       "        text-align: right;\n",
       "    }\n",
       "</style>\n",
       "<table border=\"1\" class=\"dataframe\">\n",
       "  <thead>\n",
       "    <tr style=\"text-align: right;\">\n",
       "      <th></th>\n",
       "      <th>vacancy_id</th>\n",
       "      <th>file_path</th>\n",
       "      <th>ocrd_text</th>\n",
       "      <th>image_id</th>\n",
       "      <th>transcribed_text</th>\n",
       "    </tr>\n",
       "  </thead>\n",
       "  <tbody>\n",
       "    <tr>\n",
       "      <th>0</th>\n",
       "      <td>590492</td>\n",
       "      <td>E:/ADB_Project/data/cs_sample_ocr/590492.jpg</td>\n",
       "      <td>Net Architect\\n\\n8+ years of Hands on experien...</td>\n",
       "      <td>590492</td>\n",
       "      <td>We have opportunities for:\\n.Net Architect\\nRe...</td>\n",
       "    </tr>\n",
       "    <tr>\n",
       "      <th>1</th>\n",
       "      <td>600087</td>\n",
       "      <td>E:/ADB_Project/data/cs_sample_ocr/600087.png</td>\n",
       "      <td>\\n\\niOS DEVELOPER\\n\\nS.A. Knowledge Services ...</td>\n",
       "      <td>600087</td>\n",
       "      <td>iOS DEVELOPER\\nS. A. Knowledge Services (SAKS)...</td>\n",
       "    </tr>\n",
       "    <tr>\n",
       "      <th>2</th>\n",
       "      <td>601828</td>\n",
       "      <td>E:/ADB_Project/data/cs_sample_ocr/601828.jpg</td>\n",
       "      <td>(M\\n\\nMOBIZZ\\nWE UNDERSTAND\\n= People\\n]@ss Jo...</td>\n",
       "      <td>601828</td>\n",
       "      <td>MOBIZZ\\nWE UNDERSTAND\\nRIGHT\\nPeople\\nJob Oppo...</td>\n",
       "    </tr>\n",
       "    <tr>\n",
       "      <th>3</th>\n",
       "      <td>601838</td>\n",
       "      <td>E:/ADB_Project/data/cs_sample_ocr/601838.jpg</td>\n",
       "      <td>ps\\n\\nWE UNDERSTAND\\n= People\\n\\n]@ss Job Oppo...</td>\n",
       "      <td>601838</td>\n",
       "      <td>MOBIZZ\\nWE UNDERSTAND\\nRIGHT\\nPeople\\nJob Oppo...</td>\n",
       "    </tr>\n",
       "    <tr>\n",
       "      <th>4</th>\n",
       "      <td>602009</td>\n",
       "      <td>E:/ADB_Project/data/cs_sample_ocr/602009.jpg</td>\n",
       "      <td>Senior Software Engineer - Java\\n\\nOur client ...</td>\n",
       "      <td>602009</td>\n",
       "      <td>Senior Software Engineer - Java\\nOur client wh...</td>\n",
       "    </tr>\n",
       "  </tbody>\n",
       "</table>\n",
       "</div>"
      ],
      "text/plain": [
       "   vacancy_id                                     file_path  \\\n",
       "0      590492  E:/ADB_Project/data/cs_sample_ocr/590492.jpg   \n",
       "1      600087  E:/ADB_Project/data/cs_sample_ocr/600087.png   \n",
       "2      601828  E:/ADB_Project/data/cs_sample_ocr/601828.jpg   \n",
       "3      601838  E:/ADB_Project/data/cs_sample_ocr/601838.jpg   \n",
       "4      602009  E:/ADB_Project/data/cs_sample_ocr/602009.jpg   \n",
       "\n",
       "                                           ocrd_text  image_id  \\\n",
       "0  Net Architect\\n\\n8+ years of Hands on experien...    590492   \n",
       "1   \\n\\niOS DEVELOPER\\n\\nS.A. Knowledge Services ...    600087   \n",
       "2  (M\\n\\nMOBIZZ\\nWE UNDERSTAND\\n= People\\n]@ss Jo...    601828   \n",
       "3  ps\\n\\nWE UNDERSTAND\\n= People\\n\\n]@ss Job Oppo...    601838   \n",
       "4  Senior Software Engineer - Java\\n\\nOur client ...    602009   \n",
       "\n",
       "                                    transcribed_text  \n",
       "0  We have opportunities for:\\n.Net Architect\\nRe...  \n",
       "1  iOS DEVELOPER\\nS. A. Knowledge Services (SAKS)...  \n",
       "2  MOBIZZ\\nWE UNDERSTAND\\nRIGHT\\nPeople\\nJob Oppo...  \n",
       "3  MOBIZZ\\nWE UNDERSTAND\\nRIGHT\\nPeople\\nJob Oppo...  \n",
       "4  Senior Software Engineer - Java\\nOur client wh...  "
      ]
     },
     "execution_count": 26,
     "metadata": {},
     "output_type": "execute_result"
    }
   ],
   "source": [
    "df.head()"
   ]
  },
  {
   "cell_type": "code",
   "execution_count": 27,
   "id": "8ddad782",
   "metadata": {},
   "outputs": [
    {
     "name": "stdout",
     "output_type": "stream",
     "text": [
      "100\n"
     ]
    }
   ],
   "source": [
    "Str1 = \"My name is Ali\"\n",
    "Str2 = \"Ali is my name\"\n",
    "print(fuzz.token_sort_ratio(Str1,Str2))"
   ]
  },
  {
   "cell_type": "code",
   "execution_count": 29,
   "id": "d295eaa8",
   "metadata": {},
   "outputs": [
    {
     "name": "stdout",
     "output_type": "stream",
     "text": [
      "<class 'pandas.core.frame.DataFrame'>\n",
      "Int64Index: 30 entries, 0 to 29\n",
      "Data columns (total 5 columns):\n",
      " #   Column            Non-Null Count  Dtype \n",
      "---  ------            --------------  ----- \n",
      " 0   vacancy_id        30 non-null     int32 \n",
      " 1   file_path         30 non-null     object\n",
      " 2   ocrd_text         30 non-null     object\n",
      " 3   image_id          30 non-null     int64 \n",
      " 4   transcribed_text  30 non-null     object\n",
      "dtypes: int32(1), int64(1), object(3)\n",
      "memory usage: 2.3+ KB\n"
     ]
    }
   ],
   "source": [
    "df.info()"
   ]
  },
  {
   "cell_type": "code",
   "execution_count": 34,
   "id": "8c52de6f",
   "metadata": {},
   "outputs": [
    {
     "name": "stdout",
     "output_type": "stream",
     "text": [
      "83\n"
     ]
    }
   ],
   "source": [
    "print(fuzz.token_sort_ratio(df[\"ocrd_text\"][3], df[\"transcribed_text\"][3]))"
   ]
  },
  {
   "cell_type": "code",
   "execution_count": 30,
   "id": "4295a546",
   "metadata": {},
   "outputs": [
    {
     "ename": "KeyError",
     "evalue": "'ocrd_text'",
     "output_type": "error",
     "traceback": [
      "\u001b[1;31m---------------------------------------------------------------------------\u001b[0m",
      "\u001b[1;31mKeyError\u001b[0m                                  Traceback (most recent call last)",
      "File \u001b[1;32m~\\miniconda3\\envs\\topic_models\\lib\\site-packages\\pandas\\core\\indexes\\base.py:3080\u001b[0m, in \u001b[0;36mIndex.get_loc\u001b[1;34m(self, key, method, tolerance)\u001b[0m\n\u001b[0;32m   3079\u001b[0m \u001b[38;5;28;01mtry\u001b[39;00m:\n\u001b[1;32m-> 3080\u001b[0m     \u001b[38;5;28;01mreturn\u001b[39;00m \u001b[38;5;28;43mself\u001b[39;49m\u001b[38;5;241;43m.\u001b[39;49m\u001b[43m_engine\u001b[49m\u001b[38;5;241;43m.\u001b[39;49m\u001b[43mget_loc\u001b[49m\u001b[43m(\u001b[49m\u001b[43mcasted_key\u001b[49m\u001b[43m)\u001b[49m\n\u001b[0;32m   3081\u001b[0m \u001b[38;5;28;01mexcept\u001b[39;00m \u001b[38;5;167;01mKeyError\u001b[39;00m \u001b[38;5;28;01mas\u001b[39;00m err:\n",
      "File \u001b[1;32mpandas\\_libs\\index.pyx:70\u001b[0m, in \u001b[0;36mpandas._libs.index.IndexEngine.get_loc\u001b[1;34m()\u001b[0m\n",
      "File \u001b[1;32mpandas\\_libs\\index.pyx:98\u001b[0m, in \u001b[0;36mpandas._libs.index.IndexEngine.get_loc\u001b[1;34m()\u001b[0m\n",
      "File \u001b[1;32mpandas\\_libs\\index_class_helper.pxi:89\u001b[0m, in \u001b[0;36mpandas._libs.index.Int64Engine._check_type\u001b[1;34m()\u001b[0m\n",
      "\u001b[1;31mKeyError\u001b[0m: 'ocrd_text'",
      "\nThe above exception was the direct cause of the following exception:\n",
      "\u001b[1;31mKeyError\u001b[0m                                  Traceback (most recent call last)",
      "Input \u001b[1;32mIn [30]\u001b[0m, in \u001b[0;36m<cell line: 1>\u001b[1;34m()\u001b[0m\n\u001b[1;32m----> 1\u001b[0m df[\u001b[38;5;124m\"\u001b[39m\u001b[38;5;124mtsr\u001b[39m\u001b[38;5;124m\"\u001b[39m] \u001b[38;5;241m=\u001b[39m \u001b[43mdf\u001b[49m\u001b[38;5;241;43m.\u001b[39;49m\u001b[43mapply\u001b[49m\u001b[43m(\u001b[49m\u001b[38;5;28;43;01mlambda\u001b[39;49;00m\u001b[43m \u001b[49m\u001b[43mx\u001b[49m\u001b[43m:\u001b[49m\u001b[43m \u001b[49m\u001b[43mfuzz\u001b[49m\u001b[38;5;241;43m.\u001b[39;49m\u001b[43mtoken_sort_ratio\u001b[49m\u001b[43m(\u001b[49m\u001b[43mx\u001b[49m\u001b[43m[\u001b[49m\u001b[38;5;124;43m\"\u001b[39;49m\u001b[38;5;124;43mocrd_text\u001b[39;49m\u001b[38;5;124;43m\"\u001b[39;49m\u001b[43m]\u001b[49m\u001b[43m,\u001b[49m\u001b[43m \u001b[49m\u001b[43mx\u001b[49m\u001b[43m[\u001b[49m\u001b[38;5;124;43m\"\u001b[39;49m\u001b[38;5;124;43mtranscribed_text\u001b[39;49m\u001b[38;5;124;43m\"\u001b[39;49m\u001b[43m]\u001b[49m\u001b[43m)\u001b[49m\u001b[43m)\u001b[49m\n",
      "File \u001b[1;32m~\\miniconda3\\envs\\topic_models\\lib\\site-packages\\pandas\\core\\frame.py:7768\u001b[0m, in \u001b[0;36mDataFrame.apply\u001b[1;34m(self, func, axis, raw, result_type, args, **kwds)\u001b[0m\n\u001b[0;32m   7757\u001b[0m \u001b[38;5;28;01mfrom\u001b[39;00m \u001b[38;5;21;01mpandas\u001b[39;00m\u001b[38;5;21;01m.\u001b[39;00m\u001b[38;5;21;01mcore\u001b[39;00m\u001b[38;5;21;01m.\u001b[39;00m\u001b[38;5;21;01mapply\u001b[39;00m \u001b[38;5;28;01mimport\u001b[39;00m frame_apply\n\u001b[0;32m   7759\u001b[0m op \u001b[38;5;241m=\u001b[39m frame_apply(\n\u001b[0;32m   7760\u001b[0m     \u001b[38;5;28mself\u001b[39m,\n\u001b[0;32m   7761\u001b[0m     func\u001b[38;5;241m=\u001b[39mfunc,\n\u001b[1;32m   (...)\u001b[0m\n\u001b[0;32m   7766\u001b[0m     kwds\u001b[38;5;241m=\u001b[39mkwds,\n\u001b[0;32m   7767\u001b[0m )\n\u001b[1;32m-> 7768\u001b[0m \u001b[38;5;28;01mreturn\u001b[39;00m \u001b[43mop\u001b[49m\u001b[38;5;241;43m.\u001b[39;49m\u001b[43mget_result\u001b[49m\u001b[43m(\u001b[49m\u001b[43m)\u001b[49m\n",
      "File \u001b[1;32m~\\miniconda3\\envs\\topic_models\\lib\\site-packages\\pandas\\core\\apply.py:185\u001b[0m, in \u001b[0;36mFrameApply.get_result\u001b[1;34m(self)\u001b[0m\n\u001b[0;32m    182\u001b[0m \u001b[38;5;28;01melif\u001b[39;00m \u001b[38;5;28mself\u001b[39m\u001b[38;5;241m.\u001b[39mraw:\n\u001b[0;32m    183\u001b[0m     \u001b[38;5;28;01mreturn\u001b[39;00m \u001b[38;5;28mself\u001b[39m\u001b[38;5;241m.\u001b[39mapply_raw()\n\u001b[1;32m--> 185\u001b[0m \u001b[38;5;28;01mreturn\u001b[39;00m \u001b[38;5;28;43mself\u001b[39;49m\u001b[38;5;241;43m.\u001b[39;49m\u001b[43mapply_standard\u001b[49m\u001b[43m(\u001b[49m\u001b[43m)\u001b[49m\n",
      "File \u001b[1;32m~\\miniconda3\\envs\\topic_models\\lib\\site-packages\\pandas\\core\\apply.py:276\u001b[0m, in \u001b[0;36mFrameApply.apply_standard\u001b[1;34m(self)\u001b[0m\n\u001b[0;32m    275\u001b[0m \u001b[38;5;28;01mdef\u001b[39;00m \u001b[38;5;21mapply_standard\u001b[39m(\u001b[38;5;28mself\u001b[39m):\n\u001b[1;32m--> 276\u001b[0m     results, res_index \u001b[38;5;241m=\u001b[39m \u001b[38;5;28;43mself\u001b[39;49m\u001b[38;5;241;43m.\u001b[39;49m\u001b[43mapply_series_generator\u001b[49m\u001b[43m(\u001b[49m\u001b[43m)\u001b[49m\n\u001b[0;32m    278\u001b[0m     \u001b[38;5;66;03m# wrap results\u001b[39;00m\n\u001b[0;32m    279\u001b[0m     \u001b[38;5;28;01mreturn\u001b[39;00m \u001b[38;5;28mself\u001b[39m\u001b[38;5;241m.\u001b[39mwrap_results(results, res_index)\n",
      "File \u001b[1;32m~\\miniconda3\\envs\\topic_models\\lib\\site-packages\\pandas\\core\\apply.py:290\u001b[0m, in \u001b[0;36mFrameApply.apply_series_generator\u001b[1;34m(self)\u001b[0m\n\u001b[0;32m    287\u001b[0m \u001b[38;5;28;01mwith\u001b[39;00m option_context(\u001b[38;5;124m\"\u001b[39m\u001b[38;5;124mmode.chained_assignment\u001b[39m\u001b[38;5;124m\"\u001b[39m, \u001b[38;5;28;01mNone\u001b[39;00m):\n\u001b[0;32m    288\u001b[0m     \u001b[38;5;28;01mfor\u001b[39;00m i, v \u001b[38;5;129;01min\u001b[39;00m \u001b[38;5;28menumerate\u001b[39m(series_gen):\n\u001b[0;32m    289\u001b[0m         \u001b[38;5;66;03m# ignore SettingWithCopy here in case the user mutates\u001b[39;00m\n\u001b[1;32m--> 290\u001b[0m         results[i] \u001b[38;5;241m=\u001b[39m \u001b[38;5;28;43mself\u001b[39;49m\u001b[38;5;241;43m.\u001b[39;49m\u001b[43mf\u001b[49m\u001b[43m(\u001b[49m\u001b[43mv\u001b[49m\u001b[43m)\u001b[49m\n\u001b[0;32m    291\u001b[0m         \u001b[38;5;28;01mif\u001b[39;00m \u001b[38;5;28misinstance\u001b[39m(results[i], ABCSeries):\n\u001b[0;32m    292\u001b[0m             \u001b[38;5;66;03m# If we have a view on v, we need to make a copy because\u001b[39;00m\n\u001b[0;32m    293\u001b[0m             \u001b[38;5;66;03m#  series_generator will swap out the underlying data\u001b[39;00m\n\u001b[0;32m    294\u001b[0m             results[i] \u001b[38;5;241m=\u001b[39m results[i]\u001b[38;5;241m.\u001b[39mcopy(deep\u001b[38;5;241m=\u001b[39m\u001b[38;5;28;01mFalse\u001b[39;00m)\n",
      "Input \u001b[1;32mIn [30]\u001b[0m, in \u001b[0;36m<lambda>\u001b[1;34m(x)\u001b[0m\n\u001b[1;32m----> 1\u001b[0m df[\u001b[38;5;124m\"\u001b[39m\u001b[38;5;124mtsr\u001b[39m\u001b[38;5;124m\"\u001b[39m] \u001b[38;5;241m=\u001b[39m df\u001b[38;5;241m.\u001b[39mapply(\u001b[38;5;28;01mlambda\u001b[39;00m x: fuzz\u001b[38;5;241m.\u001b[39mtoken_sort_ratio(\u001b[43mx\u001b[49m\u001b[43m[\u001b[49m\u001b[38;5;124;43m\"\u001b[39;49m\u001b[38;5;124;43mocrd_text\u001b[39;49m\u001b[38;5;124;43m\"\u001b[39;49m\u001b[43m]\u001b[49m, x[\u001b[38;5;124m\"\u001b[39m\u001b[38;5;124mtranscribed_text\u001b[39m\u001b[38;5;124m\"\u001b[39m]))\n",
      "File \u001b[1;32m~\\miniconda3\\envs\\topic_models\\lib\\site-packages\\pandas\\core\\series.py:853\u001b[0m, in \u001b[0;36mSeries.__getitem__\u001b[1;34m(self, key)\u001b[0m\n\u001b[0;32m    850\u001b[0m     \u001b[38;5;28;01mreturn\u001b[39;00m \u001b[38;5;28mself\u001b[39m\u001b[38;5;241m.\u001b[39m_values[key]\n\u001b[0;32m    852\u001b[0m \u001b[38;5;28;01melif\u001b[39;00m key_is_scalar:\n\u001b[1;32m--> 853\u001b[0m     \u001b[38;5;28;01mreturn\u001b[39;00m \u001b[38;5;28;43mself\u001b[39;49m\u001b[38;5;241;43m.\u001b[39;49m\u001b[43m_get_value\u001b[49m\u001b[43m(\u001b[49m\u001b[43mkey\u001b[49m\u001b[43m)\u001b[49m\n\u001b[0;32m    855\u001b[0m \u001b[38;5;28;01mif\u001b[39;00m is_hashable(key):\n\u001b[0;32m    856\u001b[0m     \u001b[38;5;66;03m# Otherwise index.get_value will raise InvalidIndexError\u001b[39;00m\n\u001b[0;32m    857\u001b[0m     \u001b[38;5;28;01mtry\u001b[39;00m:\n\u001b[0;32m    858\u001b[0m         \u001b[38;5;66;03m# For labels that don't resolve as scalars like tuples and frozensets\u001b[39;00m\n",
      "File \u001b[1;32m~\\miniconda3\\envs\\topic_models\\lib\\site-packages\\pandas\\core\\series.py:961\u001b[0m, in \u001b[0;36mSeries._get_value\u001b[1;34m(self, label, takeable)\u001b[0m\n\u001b[0;32m    958\u001b[0m     \u001b[38;5;28;01mreturn\u001b[39;00m \u001b[38;5;28mself\u001b[39m\u001b[38;5;241m.\u001b[39m_values[label]\n\u001b[0;32m    960\u001b[0m \u001b[38;5;66;03m# Similar to Index.get_value, but we do not fall back to positional\u001b[39;00m\n\u001b[1;32m--> 961\u001b[0m loc \u001b[38;5;241m=\u001b[39m \u001b[38;5;28;43mself\u001b[39;49m\u001b[38;5;241;43m.\u001b[39;49m\u001b[43mindex\u001b[49m\u001b[38;5;241;43m.\u001b[39;49m\u001b[43mget_loc\u001b[49m\u001b[43m(\u001b[49m\u001b[43mlabel\u001b[49m\u001b[43m)\u001b[49m\n\u001b[0;32m    962\u001b[0m \u001b[38;5;28;01mreturn\u001b[39;00m \u001b[38;5;28mself\u001b[39m\u001b[38;5;241m.\u001b[39mindex\u001b[38;5;241m.\u001b[39m_get_values_for_loc(\u001b[38;5;28mself\u001b[39m, loc, label)\n",
      "File \u001b[1;32m~\\miniconda3\\envs\\topic_models\\lib\\site-packages\\pandas\\core\\indexes\\base.py:3082\u001b[0m, in \u001b[0;36mIndex.get_loc\u001b[1;34m(self, key, method, tolerance)\u001b[0m\n\u001b[0;32m   3080\u001b[0m         \u001b[38;5;28;01mreturn\u001b[39;00m \u001b[38;5;28mself\u001b[39m\u001b[38;5;241m.\u001b[39m_engine\u001b[38;5;241m.\u001b[39mget_loc(casted_key)\n\u001b[0;32m   3081\u001b[0m     \u001b[38;5;28;01mexcept\u001b[39;00m \u001b[38;5;167;01mKeyError\u001b[39;00m \u001b[38;5;28;01mas\u001b[39;00m err:\n\u001b[1;32m-> 3082\u001b[0m         \u001b[38;5;28;01mraise\u001b[39;00m \u001b[38;5;167;01mKeyError\u001b[39;00m(key) \u001b[38;5;28;01mfrom\u001b[39;00m \u001b[38;5;21;01merr\u001b[39;00m\n\u001b[0;32m   3084\u001b[0m \u001b[38;5;28;01mif\u001b[39;00m tolerance \u001b[38;5;129;01mis\u001b[39;00m \u001b[38;5;129;01mnot\u001b[39;00m \u001b[38;5;28;01mNone\u001b[39;00m:\n\u001b[0;32m   3085\u001b[0m     tolerance \u001b[38;5;241m=\u001b[39m \u001b[38;5;28mself\u001b[39m\u001b[38;5;241m.\u001b[39m_convert_tolerance(tolerance, np\u001b[38;5;241m.\u001b[39masarray(key))\n",
      "\u001b[1;31mKeyError\u001b[0m: 'ocrd_text'"
     ]
    }
   ],
   "source": [
    "df[\"tsr\"] = df.apply(lambda x: fuzz.token_sort_ratio(x[\"ocrd_text\"], x[\"transcribed_text\"]))"
   ]
  },
  {
   "cell_type": "code",
   "execution_count": null,
   "id": "19f1a8f6",
   "metadata": {},
   "outputs": [],
   "source": []
  }
 ],
 "metadata": {
  "kernelspec": {
   "display_name": "Python 3",
   "language": "python",
   "name": "python3"
  },
  "language_info": {
   "codemirror_mode": {
    "name": "ipython",
    "version": 3
   },
   "file_extension": ".py",
   "mimetype": "text/x-python",
   "name": "python",
   "nbconvert_exporter": "python",
   "pygments_lexer": "ipython3",
   "version": "3.8.13"
  }
 },
 "nbformat": 4,
 "nbformat_minor": 5
}
