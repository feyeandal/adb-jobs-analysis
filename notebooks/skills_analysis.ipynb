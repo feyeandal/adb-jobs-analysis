{
 "cells": [
  {
   "cell_type": "code",
   "execution_count": 2,
   "id": "ffe3cd0c",
   "metadata": {},
   "outputs": [
    {
     "name": "stderr",
     "output_type": "stream",
     "text": [
      "[nltk_data] Downloading package stopwords to\n",
      "[nltk_data]     C:\\Users\\Merl\\AppData\\Roaming\\nltk_data...\n",
      "[nltk_data]   Unzipping corpora\\stopwords.zip.\n"
     ]
    }
   ],
   "source": [
    "import spacy\n",
    "from pprint import pprint\n",
    "\n",
    "import pandas as pd\n",
    "import nltk\n",
    "nltk.download('stopwords')\n",
    "\n",
    "import gensim\n",
    "import gensim.corpora as corpora\n",
    "from gensim.utils import simple_preprocess\n",
    "from gensim.models import CoherenceModel"
   ]
  },
  {
   "cell_type": "code",
   "execution_count": 5,
   "id": "9db0d3fb",
   "metadata": {},
   "outputs": [],
   "source": [
    "file_path = \"D:/nlp/top_jobs_cs_20_21/part_1/part_1a/p1a.csv\"\n",
    "nlp = spacy.load('en_core_web_sm', disable=['parser', 'ner'])"
   ]
  },
  {
   "cell_type": "code",
   "execution_count": 6,
   "id": "70725bf8",
   "metadata": {},
   "outputs": [],
   "source": [
    "df = pd.read_csv(file_path)"
   ]
  },
  {
   "cell_type": "code",
   "execution_count": 7,
   "id": "beceec3d",
   "metadata": {},
   "outputs": [
    {
     "data": {
      "text/html": [
       "<div>\n",
       "<style scoped>\n",
       "    .dataframe tbody tr th:only-of-type {\n",
       "        vertical-align: middle;\n",
       "    }\n",
       "\n",
       "    .dataframe tbody tr th {\n",
       "        vertical-align: top;\n",
       "    }\n",
       "\n",
       "    .dataframe thead th {\n",
       "        text-align: right;\n",
       "    }\n",
       "</style>\n",
       "<table border=\"1\" class=\"dataframe\">\n",
       "  <thead>\n",
       "    <tr style=\"text-align: right;\">\n",
       "      <th></th>\n",
       "      <th>vacancy_id</th>\n",
       "      <th>file_path</th>\n",
       "      <th>ocrd_text</th>\n",
       "      <th>clean_text</th>\n",
       "      <th>plain_accuracy</th>\n",
       "      <th>clean_accuracy</th>\n",
       "    </tr>\n",
       "  </thead>\n",
       "  <tbody>\n",
       "    <tr>\n",
       "      <th>0</th>\n",
       "      <td>660381</td>\n",
       "      <td>D:/nlp/top_jobs_cs_20_21/part_1/part_1a/660381...</td>\n",
       "      <td>\\n\\n \\n\\n   \\n\\n= Tee 8\\n\\nSenior Software En...</td>\n",
       "      <td>Tee 8 Senior Software Engineer PHP/Confluence...</td>\n",
       "      <td>0.765823</td>\n",
       "      <td>0.845161</td>\n",
       "    </tr>\n",
       "    <tr>\n",
       "      <th>1</th>\n",
       "      <td>660386</td>\n",
       "      <td>D:/nlp/top_jobs_cs_20_21/part_1/part_1a/660386...</td>\n",
       "      <td>\\n\\n \\n\\n   \\n\\n= Tee 8\\n\\nSenior Software En...</td>\n",
       "      <td>Tee 8 Senior Software Engineer PHP/Confluence...</td>\n",
       "      <td>0.765823</td>\n",
       "      <td>0.845161</td>\n",
       "    </tr>\n",
       "    <tr>\n",
       "      <th>2</th>\n",
       "      <td>660403</td>\n",
       "      <td>D:/nlp/top_jobs_cs_20_21/part_1/part_1a/660403...</td>\n",
       "      <td>Rea\\n\\nunain WE'RE HIRING!\\n\\n \\n\\nTEST AUTOMA...</td>\n",
       "      <td>Rea unain WERE HIRING TEST AUTOMATION ENGINEER...</td>\n",
       "      <td>0.666667</td>\n",
       "      <td>0.739130</td>\n",
       "    </tr>\n",
       "  </tbody>\n",
       "</table>\n",
       "</div>"
      ],
      "text/plain": [
       "   vacancy_id                                          file_path  \\\n",
       "0      660381  D:/nlp/top_jobs_cs_20_21/part_1/part_1a/660381...   \n",
       "1      660386  D:/nlp/top_jobs_cs_20_21/part_1/part_1a/660386...   \n",
       "2      660403  D:/nlp/top_jobs_cs_20_21/part_1/part_1a/660403...   \n",
       "\n",
       "                                           ocrd_text  \\\n",
       "0   \\n\\n \\n\\n   \\n\\n= Tee 8\\n\\nSenior Software En...   \n",
       "1   \\n\\n \\n\\n   \\n\\n= Tee 8\\n\\nSenior Software En...   \n",
       "2  Rea\\n\\nunain WE'RE HIRING!\\n\\n \\n\\nTEST AUTOMA...   \n",
       "\n",
       "                                          clean_text  plain_accuracy  \\\n",
       "0   Tee 8 Senior Software Engineer PHP/Confluence...        0.765823   \n",
       "1   Tee 8 Senior Software Engineer PHP/Confluence...        0.765823   \n",
       "2  Rea unain WERE HIRING TEST AUTOMATION ENGINEER...        0.666667   \n",
       "\n",
       "   clean_accuracy  \n",
       "0        0.845161  \n",
       "1        0.845161  \n",
       "2        0.739130  "
      ]
     },
     "execution_count": 7,
     "metadata": {},
     "output_type": "execute_result"
    }
   ],
   "source": [
    "df.head(3)"
   ]
  },
  {
   "cell_type": "markdown",
   "id": "6366be17",
   "metadata": {},
   "source": [
    "### Tokenize words"
   ]
  },
  {
   "cell_type": "code",
   "execution_count": 8,
   "id": "9a891e04",
   "metadata": {},
   "outputs": [],
   "source": [
    "def sent_to_words(sentences):\n",
    "    for sentence in sentences:\n",
    "        yield(gensim.utils.simple_preprocess(sentence))"
   ]
  },
  {
   "cell_type": "markdown",
   "id": "e241b51c",
   "metadata": {},
   "source": [
    "### Stopword Removal"
   ]
  },
  {
   "cell_type": "code",
   "execution_count": 9,
   "id": "7eb3ed3a",
   "metadata": {},
   "outputs": [],
   "source": [
    "def remove_stopwords(texts):\n",
    "    stop_words = nltk.corpus.stopwords.words('english')\n",
    "    return [[word for word in simple_preprocess(str(doc)) if word not in stop_words] for doc in texts]"
   ]
  },
  {
   "cell_type": "markdown",
   "id": "9a5914a8",
   "metadata": {},
   "source": [
    "### Build Bigram and Trigram Models"
   ]
  },
  {
   "cell_type": "code",
   "execution_count": 10,
   "id": "4bee6d37",
   "metadata": {},
   "outputs": [],
   "source": [
    "def make_bigrams(tokens, bigram):\n",
    "    \n",
    "    bigram_mod = gensim.models.phrases.Phraser(bigram)\n",
    "    \n",
    "    return [bigram_mod[doc] for doc in tokens]"
   ]
  },
  {
   "cell_type": "code",
   "execution_count": 11,
   "id": "3b821627",
   "metadata": {},
   "outputs": [],
   "source": [
    "def lemmatization(tokens, allowed_postags=[\"NOUN\", \"ADJ\", \"VERB\", \"ADV\"]):\n",
    "    \"\"\"https://spacy.io/api/annotation\"\"\"\n",
    "    texts_out = []\n",
    "    for sent in tokens:\n",
    "        doc = nlp(\" \".join(sent)) \n",
    "        texts_out.append([token.lemma_ for token in doc if token.pos_ in allowed_postags])\n",
    "    return texts_out"
   ]
  },
  {
   "cell_type": "markdown",
   "id": "4303eb07",
   "metadata": {},
   "source": [
    "---"
   ]
  },
  {
   "cell_type": "code",
   "execution_count": 22,
   "id": "407eea64",
   "metadata": {},
   "outputs": [],
   "source": [
    "df.drop(df[df['plain_accuracy'] == 0].index, inplace = True)"
   ]
  },
  {
   "cell_type": "code",
   "execution_count": 23,
   "id": "9df9c1f0",
   "metadata": {},
   "outputs": [],
   "source": [
    "tokens = list(sent_to_words(list(df[\"clean_text\"])))\n",
    "tokens_nostops = remove_stopwords(tokens)"
   ]
  },
  {
   "cell_type": "code",
   "execution_count": 24,
   "id": "e465b16d",
   "metadata": {},
   "outputs": [],
   "source": [
    "bigrams = gensim.models.Phrases(tokens, min_count=3, threshold=10)\n",
    "tokens_bigrams = make_bigrams(tokens_nostops, bigrams)"
   ]
  },
  {
   "cell_type": "code",
   "execution_count": 25,
   "id": "e7d0bdd3",
   "metadata": {},
   "outputs": [],
   "source": [
    "tokens_lemmatized = lemmatization(tokens_bigrams)"
   ]
  },
  {
   "cell_type": "code",
   "execution_count": 26,
   "id": "cd3d9e9b",
   "metadata": {},
   "outputs": [],
   "source": [
    "# Create Dictionary\n",
    "id2word = corpora.Dictionary(tokens_lemmatized)\n",
    "\n",
    "# Create Corpus\n",
    "texts = tokens_lemmatized\n",
    "\n",
    "# Term Document Frequency\n",
    "corpus = [id2word.doc2bow(text) for text in texts]"
   ]
  },
  {
   "cell_type": "code",
   "execution_count": 27,
   "id": "50fc2179",
   "metadata": {},
   "outputs": [],
   "source": [
    "# Build LDA model\n",
    "lda_model = gensim.models.ldamodel.LdaModel(corpus=corpus,\n",
    "                                           id2word=id2word,\n",
    "                                           num_topics=5, \n",
    "                                           random_state=100,\n",
    "                                           update_every=10,\n",
    "                                           chunksize=100,\n",
    "                                           passes=10,\n",
    "                                           alpha='auto',\n",
    "                                           per_word_topics=True)"
   ]
  },
  {
   "cell_type": "code",
   "execution_count": 28,
   "id": "bbf9b97e",
   "metadata": {},
   "outputs": [
    {
     "name": "stdout",
     "output_type": "stream",
     "text": [
      "[(0,\n",
      "  '0.042*\"experience\" + 0.017*\"knowledge\" + 0.015*\"development\" + '\n",
      "  '0.011*\"information_technology\" + 0.010*\"service\" + 0.010*\"design\" + '\n",
      "  '0.009*\"skill\" + 0.009*\"application\" + 0.008*\"work\" + 0.008*\"year\"'),\n",
      " (1,\n",
      "  '0.032*\"experience\" + 0.015*\"software\" + 0.013*\"work\" + 0.013*\"knowledge\" + '\n",
      "  '0.012*\"development\" + 0.011*\"skill\" + 0.010*\"team\" + 0.008*\"year\" + '\n",
      "  '0.007*\"solution\" + 0.007*\"technology\"'),\n",
      " (2,\n",
      "  '0.011*\"business\" + 0.010*\"system\" + 0.010*\"support\" + 0.009*\"work\" + '\n",
      "  '0.009*\"team\" + 0.008*\"experience\" + 0.007*\"project\" + 0.007*\"management\" + '\n",
      "  '0.006*\"requirement\" + 0.005*\"development\"'),\n",
      " (3,\n",
      "  '0.006*\"work\" + 0.006*\"ability\" + 0.006*\"test\" + 0.006*\"design\" + '\n",
      "  '0.005*\"team\" + 0.004*\"social_media\" + 0.003*\"content\" + 0.003*\"knowledge\" + '\n",
      "  '0.003*\"experience\" + 0.003*\"ensure\"'),\n",
      " (4,\n",
      "  '0.042*\"eee\" + 0.016*\"ae\" + 0.014*\"ee\" + 0.013*\"cee\" + 0.013*\"see\" + '\n",
      "  '0.011*\"eae\" + 0.008*\"ea\" + 0.007*\"ec\" + 0.007*\"ce\" + 0.007*\"ree\"')]\n"
     ]
    }
   ],
   "source": [
    "#Print the Keyword in the 20 topics\n",
    "pprint(lda_model.print_topics())"
   ]
  },
  {
   "cell_type": "code",
   "execution_count": null,
   "id": "b9186d2c",
   "metadata": {},
   "outputs": [],
   "source": []
  }
 ],
 "metadata": {
  "kernelspec": {
   "display_name": "Python 3",
   "language": "python",
   "name": "python3"
  },
  "language_info": {
   "codemirror_mode": {
    "name": "ipython",
    "version": 3
   },
   "file_extension": ".py",
   "mimetype": "text/x-python",
   "name": "python",
   "nbconvert_exporter": "python",
   "pygments_lexer": "ipython3",
   "version": "3.8.13"
  },
  "vscode": {
   "interpreter": {
    "hash": "99b707404b841dad5ba9059770ffb3e28c0f316c7d52302eeca4cefc2f8097c0"
   }
  }
 },
 "nbformat": 4,
 "nbformat_minor": 5
}
