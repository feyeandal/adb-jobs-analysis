{
 "cells": [
  {
   "cell_type": "code",
   "execution_count": 1,
   "id": "ffe3cd0c",
   "metadata": {},
   "outputs": [
    {
     "name": "stderr",
     "output_type": "stream",
     "text": [
      "[nltk_data] Downloading package stopwords to\n",
      "[nltk_data]     C:\\Users\\Merl\\AppData\\Roaming\\nltk_data...\n",
      "[nltk_data]   Package stopwords is already up-to-date!\n"
     ]
    }
   ],
   "source": [
    "import spacy\n",
    "from pprint import pprint\n",
    "\n",
    "import pandas as pd\n",
    "import nltk\n",
    "nltk.download('stopwords')\n",
    "\n",
    "import gensim\n",
    "import gensim.corpora as corpora\n",
    "from gensim.utils import simple_preprocess\n",
    "from gensim.models import CoherenceModel"
   ]
  },
  {
   "cell_type": "code",
   "execution_count": 2,
   "id": "9db0d3fb",
   "metadata": {},
   "outputs": [],
   "source": [
    "file_path = \"D:/nlp/top_jobs_cs_20_21/part_1/part_1a/p1a.csv\"\n",
    "nlp = spacy.load('en_core_web_sm', disable=['parser', 'ner'])"
   ]
  },
  {
   "cell_type": "code",
   "execution_count": 3,
   "id": "70725bf8",
   "metadata": {},
   "outputs": [],
   "source": [
    "def sent_to_words(sentences):\n",
    "    \"\"\"Lowercases and converts each sentence into a list of words\"\"\"\n",
    "    for sentence in sentences:\n",
    "        yield(gensim.utils.simple_preprocess(sentence))"
   ]
  },
  {
   "cell_type": "code",
   "execution_count": 4,
   "id": "beceec3d",
   "metadata": {},
   "outputs": [],
   "source": [
    "def remove_stopwords(texts, stop_words=nltk.corpus.stopwords.words('english')):\n",
    "    \"Removes stopwords using a list of stopwords provided\"\n",
    "    return [[word for word in simple_preprocess(str(doc)) if word not in stop_words] for doc in texts]"
   ]
  },
  {
   "cell_type": "code",
   "execution_count": 5,
   "id": "9a891e04",
   "metadata": {},
   "outputs": [],
   "source": [
    "def make_bigrams(tokens):\n",
    "    \"\"\"build the bi-gram models\"\"\"\n",
    "    \n",
    "    bigram = gensim.models.Phrases(tokens, min_count=3, threshold=10)\n",
    "    \n",
    "    bigram_mod = gensim.models.phrases.Phraser(bigram)\n",
    "    \n",
    "    return [bigram_mod[doc] for doc in tokens]"
   ]
  },
  {
   "cell_type": "code",
   "execution_count": 6,
   "id": "7eb3ed3a",
   "metadata": {},
   "outputs": [],
   "source": [
    "def lemmatization(tokens, allowed_postags=[\"NOUN\", \"ADJ\", \"VERB\", \"ADV\"]):\n",
    "    \"\"\"Do lemmatization keeping only noun, adj, vb, adv\"\"\"\n",
    "    texts_out = []\n",
    "    for sent in tokens:\n",
    "        doc = nlp(\" \".join(sent)) \n",
    "        texts_out.append([token.lemma_ for token in doc if token.pos_ in allowed_postags])\n",
    "    return texts_out"
   ]
  },
  {
   "cell_type": "code",
   "execution_count": 7,
   "id": "4bee6d37",
   "metadata": {},
   "outputs": [],
   "source": [
    "def prep_data(df):\n",
    "    \"\"\"tokenize, remove stopwords, make bigrams and lemmatize the corpus\"\"\"\n",
    "\n",
    "    tokens = list(sent_to_words(list(df[\"clean_text\"])))\n",
    "    \n",
    "    tokens_nostops = remove_stopwords(tokens)\n",
    "    \n",
    "    tokens_bigrams = make_bigrams(tokens_nostops)\n",
    "\n",
    "    tokens_lemmatized = lemmatization(tokens_bigrams)\n",
    "    \n",
    "    return tokens_lemmatized"
   ]
  },
  {
   "cell_type": "code",
   "execution_count": 60,
   "id": "3b821627",
   "metadata": {},
   "outputs": [],
   "source": [
    "def build_topic_models(tokens):\n",
    "    \"\"\"train a topic models\"\"\"\n",
    "    #Create data formats necessary to build LDA topic models with gensim\n",
    "    \n",
    "    #Create dictionary\n",
    "    id2word = corpora.Dictionary(tokens)\n",
    "\n",
    "    # Term Document Frequency from dictionary\n",
    "    corpus = [id2word.doc2bow(token) for token in tokens]\n",
    "    \n",
    "    # Build LDA model\n",
    "    lda_model = gensim.models.ldamodel.LdaModel(corpus=corpus,\n",
    "                                           id2word=id2word,\n",
    "                                           num_topics=4, \n",
    "                                           random_state=100,\n",
    "                                           update_every=10,\n",
    "                                           chunksize=100,\n",
    "                                           passes=10,\n",
    "                                           alpha='auto',\n",
    "                                           per_word_topics=True)\n",
    "    \n",
    "    return lda_model"
   ]
  },
  {
   "cell_type": "markdown",
   "id": "4303eb07",
   "metadata": {},
   "source": [
    "---"
   ]
  },
  {
   "cell_type": "code",
   "execution_count": 61,
   "id": "b9186d2c",
   "metadata": {},
   "outputs": [],
   "source": [
    "file_path = \"D:/nlp/top_jobs_cs_20_21/part_1/part_1a/p1a.csv\""
   ]
  },
  {
   "cell_type": "code",
   "execution_count": 74,
   "id": "cec9ebb6",
   "metadata": {},
   "outputs": [],
   "source": [
    "def main(file_path = \"D:/nlp/top_jobs_cs_20_21/part_1/part_1a/p1a.csv\"):\n",
    "    \"\"\"reads a csv, prepares the data, builds the topic models and prints topic outputs\"\"\"\n",
    "    \n",
    "    df = pd.read_csv(file_path)\n",
    "    \n",
    "    df = df.sample(500)\n",
    "    \n",
    "    df = df[df[\"clean_accuracy\"]>0]\n",
    "    \n",
    "    tokens_lemmatized = prep_data(df)\n",
    "    \n",
    "    lda_model = build_topic_models(tokens_lemmatized)\n",
    "    \n",
    "    lda_model.print_topics(num_words=5)"
   ]
  },
  {
   "cell_type": "code",
   "execution_count": 75,
   "id": "83b78364",
   "metadata": {},
   "outputs": [],
   "source": [
    "main()"
   ]
  },
  {
   "cell_type": "code",
   "execution_count": 65,
   "id": "36d7732d",
   "metadata": {},
   "outputs": [],
   "source": [
    "df = pd.read_csv(file_path)\n",
    "df = df.sample(200)\n",
    "df = df[df[\"clean_accuracy\"]>0]"
   ]
  },
  {
   "cell_type": "code",
   "execution_count": 66,
   "id": "0a586547",
   "metadata": {},
   "outputs": [],
   "source": [
    "#df.head()"
   ]
  },
  {
   "cell_type": "code",
   "execution_count": 67,
   "id": "be059c2c",
   "metadata": {},
   "outputs": [],
   "source": [
    "tokens_lemmatized = prep_data(df)"
   ]
  },
  {
   "cell_type": "code",
   "execution_count": 68,
   "id": "feabf300",
   "metadata": {},
   "outputs": [],
   "source": [
    "id2word = corpora.Dictionary(tokens_lemmatized)"
   ]
  },
  {
   "cell_type": "code",
   "execution_count": 69,
   "id": "aaf8ca15",
   "metadata": {},
   "outputs": [],
   "source": [
    "corpus = [id2word.doc2bow(token) for token in tokens_lemmatized]"
   ]
  },
  {
   "cell_type": "code",
   "execution_count": 72,
   "id": "32ee78c8",
   "metadata": {},
   "outputs": [],
   "source": [
    "lda_model = gensim.models.ldamodel.LdaModel(corpus=corpus,\n",
    "                                           id2word=id2word,\n",
    "                                           num_topics=7, \n",
    "                                           random_state=100,\n",
    "                                           update_every=10,\n",
    "                                           chunksize=100,\n",
    "                                           passes=10,\n",
    "                                           alpha='auto',\n",
    "                                           per_word_topics=True)"
   ]
  },
  {
   "cell_type": "code",
   "execution_count": 73,
   "id": "a3cf4d73",
   "metadata": {},
   "outputs": [
    {
     "data": {
      "text/plain": [
       "[(0,\n",
       "  '0.019*\"experience\" + 0.007*\"development\" + 0.007*\"security\" + 0.006*\"tool\" + 0.006*\"technology\" + 0.006*\"work\" + 0.005*\"skill\" + 0.005*\"application\" + 0.005*\"testing\" + 0.005*\"knowledge\"'),\n",
       " (1,\n",
       "  '0.013*\"client\" + 0.009*\"requirement\" + 0.009*\"business\" + 0.008*\"management\" + 0.008*\"knowledge\" + 0.008*\"solution\" + 0.005*\"system\" + 0.005*\"company\" + 0.005*\"basic_knowledge\" + 0.005*\"tool_apply\"'),\n",
       " (2,\n",
       "  '0.021*\"experience\" + 0.008*\"development\" + 0.008*\"work\" + 0.007*\"skill\" + 0.006*\"solution\" + 0.006*\"technology\" + 0.005*\"knowledge\" + 0.005*\"net\" + 0.005*\"design\" + 0.005*\"project\"'),\n",
       " (3,\n",
       "  '0.005*\"eee\" + 0.005*\"ssrs\" + 0.004*\"experience\" + 0.004*\"brand\" + 0.004*\"ete\" + 0.004*\"web\" + 0.003*\"technology\" + 0.003*\"colombo\" + 0.003*\"development\" + 0.003*\"email\"'),\n",
       " (4,\n",
       "  '0.013*\"team\" + 0.012*\"group\" + 0.010*\"business\" + 0.008*\"service\" + 0.008*\"market\" + 0.006*\"work\" + 0.006*\"skill\" + 0.006*\"experience\" + 0.006*\"support\" + 0.006*\"system\"'),\n",
       " (5,\n",
       "  '0.016*\"eee\" + 0.010*\"experience\" + 0.009*\"ee\" + 0.007*\"design\" + 0.007*\"cee\" + 0.006*\"work\" + 0.006*\"see\" + 0.006*\"solution\" + 0.005*\"system\" + 0.005*\"development\"'),\n",
       " (6,\n",
       "  '0.027*\"experience\" + 0.009*\"software\" + 0.008*\"development\" + 0.008*\"design\" + 0.008*\"solution\" + 0.007*\"knowledge\" + 0.007*\"technology\" + 0.006*\"company\" + 0.006*\"service\" + 0.006*\"product\"')]"
      ]
     },
     "execution_count": 73,
     "metadata": {},
     "output_type": "execute_result"
    }
   ],
   "source": [
    "lda_model.print_topics()"
   ]
  },
  {
   "cell_type": "code",
   "execution_count": null,
   "id": "a46f6ed7",
   "metadata": {},
   "outputs": [],
   "source": []
  }
 ],
 "metadata": {
  "kernelspec": {
   "display_name": "Python 3",
   "language": "python",
   "name": "python3"
  },
  "language_info": {
   "codemirror_mode": {
    "name": "ipython",
    "version": 3
   },
   "file_extension": ".py",
   "mimetype": "text/x-python",
   "name": "python",
   "nbconvert_exporter": "python",
   "pygments_lexer": "ipython3",
   "version": "3.8.8"
  },
  "vscode": {
   "interpreter": {
    "hash": "99b707404b841dad5ba9059770ffb3e28c0f316c7d52302eeca4cefc2f8097c0"
   }
  }
 },
 "nbformat": 4,
 "nbformat_minor": 5
}
