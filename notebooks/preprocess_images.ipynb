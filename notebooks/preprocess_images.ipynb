{
 "cells": [
  {
   "cell_type": "code",
   "execution_count": 1,
   "id": "b099c10d",
   "metadata": {},
   "outputs": [],
   "source": [
    "from PIL import Image, ImageEnhance\n",
    "import math"
   ]
  },
  {
   "cell_type": "code",
   "execution_count": 11,
   "id": "e4ceaa83",
   "metadata": {},
   "outputs": [
    {
     "ename": "ModuleNotFoundError",
     "evalue": "No module named 'cv2'",
     "output_type": "error",
     "traceback": [
      "\u001b[1;31m---------------------------------------------------------------------------\u001b[0m",
      "\u001b[1;31mModuleNotFoundError\u001b[0m                       Traceback (most recent call last)",
      "\u001b[1;32m<ipython-input-11-708f4bfbcd6a>\u001b[0m in \u001b[0;36m<module>\u001b[1;34m\u001b[0m\n\u001b[1;32m----> 1\u001b[1;33m \u001b[1;32mimport\u001b[0m \u001b[0mcv2\u001b[0m\u001b[1;33m\u001b[0m\u001b[1;33m\u001b[0m\u001b[0m\n\u001b[0m\u001b[0;32m      2\u001b[0m \u001b[1;32mfrom\u001b[0m \u001b[0mmatplotlib\u001b[0m \u001b[1;32mimport\u001b[0m \u001b[0mpyplot\u001b[0m \u001b[1;32mas\u001b[0m \u001b[0mplt\u001b[0m\u001b[1;33m\u001b[0m\u001b[1;33m\u001b[0m\u001b[0m\n\u001b[0;32m      3\u001b[0m \u001b[0mimage_file\u001b[0m \u001b[1;33m=\u001b[0m \u001b[1;34mr\"E:\\ADB_Project\\_dump_PREVIOUS\\code\\eda\\723029.png\"\u001b[0m\u001b[1;33m\u001b[0m\u001b[1;33m\u001b[0m\u001b[0m\n\u001b[0;32m      4\u001b[0m \u001b[1;31m#img = cv2.imread(image_file)\u001b[0m\u001b[1;33m\u001b[0m\u001b[1;33m\u001b[0m\u001b[1;33m\u001b[0m\u001b[0m\n",
      "\u001b[1;31mModuleNotFoundError\u001b[0m: No module named 'cv2'"
     ]
    }
   ],
   "source": [
    "import cv2\n",
    "from matplotlib import pyplot as plt\n",
    "image_file = r\"E:\\ADB_Project\\_dump_PREVIOUS\\code\\eda\\723029.png\"\n",
    "#img = cv2.imread(image_file)"
   ]
  },
  {
   "cell_type": "code",
   "execution_count": 2,
   "id": "95e65554",
   "metadata": {},
   "outputs": [],
   "source": [
    "import pytesseract\n",
    "\n",
    "# loading pytesseract \n",
    "pytesseract.pytesseract.tesseract_cmd = r'C:\\Program Files\\Tesseract-OCR\\tesseract'"
   ]
  },
  {
   "cell_type": "code",
   "execution_count": 3,
   "id": "ad5357b1",
   "metadata": {},
   "outputs": [],
   "source": [
    "def load_images(image_path):\n",
    "    \"\"\"loads the relevant images with defects\"\"\"\n",
    "    img = Image.open(image_path)\n",
    "    #img_rgb = img.convert(\"RGB\")\n",
    "    img_data = img.getdata()\n",
    "    \n",
    "    return img_data\n",
    "    "
   ]
  },
  {
   "cell_type": "code",
   "execution_count": 4,
   "id": "8a89180a",
   "metadata": {},
   "outputs": [],
   "source": [
    "def enhance_contrast(img, factors):\n",
    "    \"\"\"enhances contrast\"\"\"\n",
    "    enhancer = ImageEnhance.Contrast(img)\n",
    "    \n",
    "    for f in factors:\n",
    "        img_output = enhancer.enhance(f)\n",
    "        \n",
    "    return something"
   ]
  },
  {
   "cell_type": "code",
   "execution_count": 5,
   "id": "d7a5f66c",
   "metadata": {},
   "outputs": [],
   "source": [
    "def isLightOrDark(rgbColor=[0,128,255]):\n",
    "    \"\"\"checks whether the image is light or dark\"\"\"\n",
    "    [r,g,b] = rgbColor\n",
    "    hsp = math.sqrt(0.299 * (r * r) + 0.587 * (g * g) + 0.114 * (b * b))\n",
    "    if (hsp>127.5):\n",
    "        return True\n",
    "    else:\n",
    "        return False"
   ]
  },
  {
   "cell_type": "code",
   "execution_count": 6,
   "id": "3a9105e0",
   "metadata": {},
   "outputs": [],
   "source": [
    "def binarization(image_path):\n",
    "    \"\"\"converts a color image to black and white\"\"\"\n",
    "    image = Image.open(image_path)\n",
    "    im = image.convert(\"RGB\")\n",
    "    pixelMap = im.load()\n",
    "    \n",
    "    img = Image.new(im.mode, im.size)\n",
    "    pixelsNew = img.load()\n",
    "    \n",
    "    for i in range(img.size[0]):\n",
    "        for j in range(img.size[1]):\n",
    "            #if light\n",
    "            if isLightOrDark(list(pixelMap[i,j])): #function which checks light or dark\n",
    "                pixelMap[i,j] = (0,0,0)\n",
    "            #if dark\n",
    "            else:\n",
    "                pixelsNew[i,j] = (254,254,254)\n",
    "    return img"
   ]
  },
  {
   "cell_type": "code",
   "execution_count": 7,
   "id": "17fb4178",
   "metadata": {},
   "outputs": [],
   "source": [
    "binary_output = binarization(r\"E:\\ADB_Project\\_dump_PREVIOUS\\code\\eda\\723029.png\")"
   ]
  },
  {
   "cell_type": "code",
   "execution_count": 8,
   "id": "80a263f4",
   "metadata": {},
   "outputs": [],
   "source": [
    "data = pytesseract.image_to_string(binary_output)"
   ]
  },
  {
   "cell_type": "code",
   "execution_count": 17,
   "id": "0e0eca14",
   "metadata": {},
   "outputs": [
    {
     "name": "stdout",
     "output_type": "stream",
     "text": [
      "Software Quality Assurance Lead\n",
      "\n",
      "A degree in Computer Science or any other similar qualification\n",
      "64 years of experience in the relevant field\n",
      "\n",
      "Experience in Test Process Management\n",
      "\n",
      "Knowledge in QA concepts\n",
      "\n",
      "Good Analytical skills\n",
      "\n",
      "Technical Skills ia Quality Assurance - Automation & Performance\n",
      "Excellent communication skills including verbal and written English\n",
      "Excellent Leadership Skills and People management skills\n",
      "\f\n",
      "\n"
     ]
    }
   ],
   "source": [
    "print(data)"
   ]
  }
 ],
 "metadata": {
  "kernelspec": {
   "display_name": "Python 3.8.5",
   "language": "python",
   "name": "python3"
  },
  "language_info": {
   "codemirror_mode": {
    "name": "ipython",
    "version": 3
   },
   "file_extension": ".py",
   "mimetype": "text/x-python",
   "name": "python",
   "nbconvert_exporter": "python",
   "pygments_lexer": "ipython3",
   "version": "3.8.5"
  },
  "vscode": {
   "interpreter": {
    "hash": "99b707404b841dad5ba9059770ffb3e28c0f316c7d52302eeca4cefc2f8097c0"
   }
  }
 },
 "nbformat": 4,
 "nbformat_minor": 5
}
