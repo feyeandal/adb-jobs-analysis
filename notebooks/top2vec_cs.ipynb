{
 "cells": [
  {
   "cell_type": "code",
   "execution_count": 1,
   "id": "47ad3f92",
   "metadata": {},
   "outputs": [
    {
     "name": "stderr",
     "output_type": "stream",
     "text": [
      "C:\\Users\\Merl\\miniconda3\\envs\\topic_models\\lib\\site-packages\\tqdm\\auto.py:22: TqdmWarning: IProgress not found. Please update jupyter and ipywidgets. See https://ipywidgets.readthedocs.io/en/stable/user_install.html\n",
      "  from .autonotebook import tqdm as notebook_tqdm\n"
     ]
    }
   ],
   "source": [
    "import numpy as np\n",
    "import pandas as pd\n",
    "from top2vec import Top2Vec"
   ]
  },
  {
   "cell_type": "code",
   "execution_count": 2,
   "id": "f026b1dc",
   "metadata": {},
   "outputs": [],
   "source": [
    "pre = pd.read_csv(\"E:/ADB_Project/code/results/matches/cs_pre.csv\")"
   ]
  },
  {
   "cell_type": "code",
   "execution_count": 2,
   "id": "fd9fd990",
   "metadata": {},
   "outputs": [],
   "source": [
    "post = pd.read_csv(\"E:/ADB_Project/code/results/matches/cs_post.csv\")"
   ]
  },
  {
   "cell_type": "code",
   "execution_count": 3,
   "id": "0a7be579",
   "metadata": {},
   "outputs": [
    {
     "data": {
      "text/plain": [
       "Index(['job_code', 'file_path', 'ocrd_text', 'clean_text', 'plain_accuracy',\n",
       "       'clean_accuracy', 'start_date'],\n",
       "      dtype='object')"
      ]
     },
     "execution_count": 3,
     "metadata": {},
     "output_type": "execute_result"
    }
   ],
   "source": [
    "post.columns"
   ]
  },
  {
   "cell_type": "code",
   "execution_count": 13,
   "id": "3d7038e4",
   "metadata": {},
   "outputs": [],
   "source": [
    "from collections import Counter\n",
    "\n",
    "def remove_common_words(lists, cutoff):\n",
    "    # Flatten the list of lists into a single list of words\n",
    "    all_words = [word for sublist in lists for word in sublist]\n",
    "    # Count the occurrences of each word\n",
    "    word_counts = Counter(all_words)\n",
    "    # Find the threshold for words that appear in more than 50% of the items\n",
    "    threshold = len(lists) * cutoff\n",
    "    common_words = {word for word, count in word_counts.items() if count > threshold}\n",
    "\n",
    "    # Iterate through the list of lists and remove the common words\n",
    "    for i, sublist in enumerate(lists):\n",
    "        lists[i] = [word for word in sublist if word not in common_words]\n",
    "    return lists\n"
   ]
  },
  {
   "cell_type": "markdown",
   "id": "83123169",
   "metadata": {},
   "source": [
    "### Post - CS"
   ]
  },
  {
   "cell_type": "code",
   "execution_count": 4,
   "id": "3c4a5832",
   "metadata": {},
   "outputs": [
    {
     "data": {
      "text/plain": [
       "(3528, 7)"
      ]
     },
     "execution_count": 4,
     "metadata": {},
     "output_type": "execute_result"
    }
   ],
   "source": [
    "post.shape"
   ]
  },
  {
   "cell_type": "code",
   "execution_count": 5,
   "id": "72cd7e4d",
   "metadata": {},
   "outputs": [],
   "source": [
    "post_docs = post['clean_text'].astype(str)\n",
    "post_docs = post_docs.to_numpy()"
   ]
  },
  {
   "cell_type": "code",
   "execution_count": 6,
   "id": "1cd0192b",
   "metadata": {},
   "outputs": [
    {
     "ename": "ImportError",
     "evalue": "universal-sentence-encoder is not available.\n\nTry: pip install top2vec[sentence_encoders]\n\nAlternatively try: pip install tensorflow tensorflow_hub tensorflow_text",
     "output_type": "error",
     "traceback": [
      "\u001b[1;31m---------------------------------------------------------------------------\u001b[0m",
      "\u001b[1;31mImportError\u001b[0m                               Traceback (most recent call last)",
      "Input \u001b[1;32mIn [6]\u001b[0m, in \u001b[0;36m<cell line: 1>\u001b[1;34m()\u001b[0m\n\u001b[1;32m----> 1\u001b[0m model \u001b[38;5;241m=\u001b[39m \u001b[43mTop2Vec\u001b[49m\u001b[43m(\u001b[49m\u001b[43mpost_docs\u001b[49m\u001b[43m,\u001b[49m\u001b[43m \u001b[49m\u001b[43membedding_model\u001b[49m\u001b[38;5;241;43m=\u001b[39;49m\u001b[38;5;124;43m'\u001b[39;49m\u001b[38;5;124;43muniversal-sentence-encoder\u001b[39;49m\u001b[38;5;124;43m'\u001b[39;49m\u001b[43m)\u001b[49m\n",
      "File \u001b[1;32m~\\miniconda3\\envs\\topic_models\\lib\\site-packages\\top2vec\\Top2Vec.py:568\u001b[0m, in \u001b[0;36mTop2Vec.__init__\u001b[1;34m(self, documents, min_count, ngram_vocab, ngram_vocab_args, embedding_model, embedding_model_path, embedding_batch_size, split_documents, document_chunker, chunk_length, max_num_chunks, chunk_overlap_ratio, chunk_len_coverage_ratio, sentencizer, speed, use_corpus_file, document_ids, keep_documents, workers, tokenizer, use_embedding_model_tokenizer, umap_args, hdbscan_args, verbose)\u001b[0m\n\u001b[0;32m    565\u001b[0m \u001b[38;5;28mself\u001b[39m\u001b[38;5;241m.\u001b[39membed \u001b[38;5;241m=\u001b[39m \u001b[38;5;28;01mNone\u001b[39;00m\n\u001b[0;32m    566\u001b[0m \u001b[38;5;28mself\u001b[39m\u001b[38;5;241m.\u001b[39membedding_model \u001b[38;5;241m=\u001b[39m embedding_model\n\u001b[1;32m--> 568\u001b[0m \u001b[38;5;28;43mself\u001b[39;49m\u001b[38;5;241;43m.\u001b[39;49m\u001b[43m_check_import_status\u001b[49m\u001b[43m(\u001b[49m\u001b[43m)\u001b[49m\n\u001b[0;32m    570\u001b[0m logger\u001b[38;5;241m.\u001b[39minfo(\u001b[38;5;124m'\u001b[39m\u001b[38;5;124mPre-processing documents for training\u001b[39m\u001b[38;5;124m'\u001b[39m)\n\u001b[0;32m    572\u001b[0m \u001b[38;5;66;03m# preprocess documents\u001b[39;00m\n",
      "File \u001b[1;32m~\\miniconda3\\envs\\topic_models\\lib\\site-packages\\top2vec\\Top2Vec.py:1089\u001b[0m, in \u001b[0;36mTop2Vec._check_import_status\u001b[1;34m(self)\u001b[0m\n\u001b[0;32m   1087\u001b[0m \u001b[38;5;28;01mif\u001b[39;00m \u001b[38;5;28mself\u001b[39m\u001b[38;5;241m.\u001b[39membedding_model \u001b[38;5;129;01min\u001b[39;00m use_models:\n\u001b[0;32m   1088\u001b[0m     \u001b[38;5;28;01mif\u001b[39;00m \u001b[38;5;129;01mnot\u001b[39;00m _HAVE_TENSORFLOW:\n\u001b[1;32m-> 1089\u001b[0m         \u001b[38;5;28;01mraise\u001b[39;00m \u001b[38;5;167;01mImportError\u001b[39;00m(\u001b[38;5;124mf\u001b[39m\u001b[38;5;124m\"\u001b[39m\u001b[38;5;132;01m{\u001b[39;00m\u001b[38;5;28mself\u001b[39m\u001b[38;5;241m.\u001b[39membedding_model\u001b[38;5;132;01m}\u001b[39;00m\u001b[38;5;124m is not available.\u001b[39m\u001b[38;5;130;01m\\n\u001b[39;00m\u001b[38;5;130;01m\\n\u001b[39;00m\u001b[38;5;124m\"\u001b[39m\n\u001b[0;32m   1090\u001b[0m                           \u001b[38;5;124m\"\u001b[39m\u001b[38;5;124mTry: pip install top2vec[sentence_encoders]\u001b[39m\u001b[38;5;130;01m\\n\u001b[39;00m\u001b[38;5;130;01m\\n\u001b[39;00m\u001b[38;5;124m\"\u001b[39m\n\u001b[0;32m   1091\u001b[0m                           \u001b[38;5;124m\"\u001b[39m\u001b[38;5;124mAlternatively try: pip install tensorflow tensorflow_hub tensorflow_text\u001b[39m\u001b[38;5;124m\"\u001b[39m)\n\u001b[0;32m   1092\u001b[0m \u001b[38;5;28;01melif\u001b[39;00m \u001b[38;5;28mself\u001b[39m\u001b[38;5;241m.\u001b[39membedding_model \u001b[38;5;129;01min\u001b[39;00m sbert_models:\n\u001b[0;32m   1093\u001b[0m     \u001b[38;5;28;01mif\u001b[39;00m \u001b[38;5;129;01mnot\u001b[39;00m _HAVE_TORCH:\n",
      "\u001b[1;31mImportError\u001b[0m: universal-sentence-encoder is not available.\n\nTry: pip install top2vec[sentence_encoders]\n\nAlternatively try: pip install tensorflow tensorflow_hub tensorflow_text"
     ]
    }
   ],
   "source": [
    "model = Top2Vec(post_docs, embedding_model='universal-sentence-encoder')"
   ]
  },
  {
   "cell_type": "code",
   "execution_count": 9,
   "id": "6ff01db7",
   "metadata": {},
   "outputs": [],
   "source": [
    "model = Top2Vec.load(\"cs_post_model.pb\")"
   ]
  },
  {
   "cell_type": "code",
   "execution_count": 10,
   "id": "e7f24c72",
   "metadata": {},
   "outputs": [
    {
     "data": {
      "text/plain": [
       "54"
      ]
     },
     "execution_count": 10,
     "metadata": {},
     "output_type": "execute_result"
    }
   ],
   "source": [
    "model.get_num_topics()"
   ]
  },
  {
   "cell_type": "code",
   "execution_count": 4,
   "id": "2b54de10",
   "metadata": {},
   "outputs": [],
   "source": [
    "#model.save(\"post_cs_topics.pb\")"
   ]
  },
  {
   "cell_type": "code",
   "execution_count": 5,
   "id": "04bcc1e4",
   "metadata": {},
   "outputs": [],
   "source": [
    "#post_docs[2771]"
   ]
  },
  {
   "cell_type": "code",
   "execution_count": 11,
   "id": "16d51852",
   "metadata": {},
   "outputs": [],
   "source": [
    "post_cs_skills_list = list(model.topic_words)"
   ]
  },
  {
   "cell_type": "code",
   "execution_count": 12,
   "id": "646ad8e7",
   "metadata": {},
   "outputs": [
    {
     "name": "stdout",
     "output_type": "stream",
     "text": [
      "['devops' 'microservices' 'kanban' 'backend' 'scrum' 'sdlc' 'coding'\n",
      " 'agile' 'saas' 'ux' 'fullstack' 'developer' 'nosql' 'balsamiq' 'frontend'\n",
      " 'erp' 'frameworks' 'salesforce' 'developers' 'developing' 'developed'\n",
      " 'analyst' 'apis' 'reactjs' 'tdd' 'cms' 'jmeter' 'selenium' 'develop'\n",
      " 'certifications' 'technologies' 'architectures' 'jira' 'nontechnical'\n",
      " 'dev' 'competencies' 'hybris' 'php' 'msc' 'angular' 'api' 'ui'\n",
      " 'architect' 'weblogic' 'startups' 'internship' 'workflows' 'sinhala'\n",
      " 'angularjs' 'azure']\n",
      "\n",
      "\n",
      "['selenium' 'tdd' 'devops' 'jmeter' 'agile' 'sdlc' 'scrum' 'kanban'\n",
      " 'testing' 'balsamiq' 'salesforce' 'qa' 'tests' 'certifications'\n",
      " 'certified' 'erp' 'test' 'analytical' 'jira' 'saas' 'engineer'\n",
      " 'automation' 'uat' 'sas' 'developed' 'analyst' 'coding' 'microservices'\n",
      " 'automated' 'ux' 'certification' 'jenkins' 'software' 'architect'\n",
      " 'analytics' 'developing' 'frontend' 'developer' 'competencies' 'backend'\n",
      " 'rpa' 'hybris' 'engineering' 'engineers' 'weblogic' 'msc' 'lankan' 'ui'\n",
      " 'frameworks' 'deliverables']\n",
      "\n",
      "\n",
      "['illustrator' 'designing' 'designers' 'designer' 'balsamiq'\n",
      " 'qualification' 'competencies' 'qualifications' 'applicants' 'portfolio'\n",
      " 'apply' 'applying' 'cv' 'design' 'kanban' 'resume' 'photoshop' 'coding'\n",
      " 'skills' 'sdlc' 'graphic' 'wireframe' 'skilled' 'hiring' 'developing'\n",
      " 'adobe' 'ict' 'ux' 'eligibility' 'specialization' 'internship' 'drafting'\n",
      " 'bsc' 'develop' 'agile' 'developed' 'architect' 'diploma' 'designed'\n",
      " 'trainee' 'degree' 'applied' 'deliverables' 'msc' 'saas' 'scrum' 'talent'\n",
      " 'career' 'proficient' 'designs']\n",
      "\n",
      "\n",
      "['nosql' 'jira' 'microservices' 'json' 'mongodb' 'elasticsearch' 'hybris'\n",
      " 'devops' 'reactjs' 'apis' 'nodejs' 'webapi' 'salesforce' 'restful'\n",
      " 'hibernate' 'backend' 'api' 'scrum' 'agile' 'kanban' 'angularjs' 'cms'\n",
      " 'vuejs' 'jmeter' 'angular' 'redux' 'java' 'mvc' 'maven' 'spring'\n",
      " 'fullstack' 'versioning' 'weblogic' 'tdd' 'frameworks' 'frontend'\n",
      " 'visualforce' 'tomcat' 'git' 'developer' 'ajax' 'apex' 'azure' 'react'\n",
      " 'laravel' 'javafx' 'aspnet' 'sdlc' 'js' 'node']\n",
      "\n",
      "\n",
      "['nan' 'non' 'not' 'no' 'ne' 'er' 'hrjobfactoryik' 'po' 'only' 'uu' 'aren'\n",
      " 'ie' 'se' 'third' 'ta' 'ere' 'ri' 'es' 'xd' 'an' 'nonfunctional' 'its'\n",
      " 'oe' 'just' 'atleast' 'ci' 'is' 'dco' 'out' 'year' 'any' 'has' 'js'\n",
      " 'such' 'pl' 'elicitation' 'one' 'ue' 'least' 'sil' 'of' 'le' 'would'\n",
      " 'liaise' 'are' 'st' 'highly' 'it' 'existing' 'were']\n",
      "\n",
      "\n",
      "['php' 'backend' 'devops' 'laravel' 'frontend' 'microservices' 'fullstack'\n",
      " 'reactjs' 'frameworks' 'saas' 'html' 'jquery' 'nosql' 'coding'\n",
      " 'angularjs' 'angular' 'css' 'cms' 'aspnet' 'mysql' 'ajax' 'tdd' 'sdlc'\n",
      " 'nodejs' 'ecommerce' 'javascript' 'agile' 'wordpress' 'developer' 'vuejs'\n",
      " 'bootstrap' 'mvc' 'json' 'jmeter' 'web' 'responsive' 'ux' 'scrum'\n",
      " 'developing' 'selenium' 'sql' 'kanban' 'framework' 'apis' 'api' 'develop'\n",
      " 'developers' 'jira' 'database' 'development']\n",
      "\n",
      "\n",
      "['dba' 'nosql' 'backups' 'databases' 'database' 'sql' 'tsql' 'devops'\n",
      " 'mysql' 'backup' 'erp' 'oracle' 'backend' 'certifications' 'coding'\n",
      " 'microservices' 'postgresql' 'analyst' 'replication' 'certified'\n",
      " 'mongodb' 'nontechnical' 'relational' 'frontend' 'integrity' 'weblogic'\n",
      " 'frameworks' 'diploma' 'sdlc' 'cloud' 'php' 'fullstack' 'balsamiq' 'cms'\n",
      " 'scrum' 'warehousing' 'resume' 'above' 'uptime' 'troubleshoot' 'hybris'\n",
      " 'reactjs' 'ssrs' 'competencies' 'architect' 'azure' 'saas' 'server' 'ame'\n",
      " 'administrator']\n",
      "\n",
      "\n",
      "['microservices' 'devops' 'nosql' 'saas' 'backend' 'hybris' 'aws' 'jmeter'\n",
      " 'weblogic' 'nodejs' 'fullstack' 'architectures' 'salesforce' 'sdlc'\n",
      " 'docker' 'reactjs' 'jira' 'tomcat' 'azure' 'frontend' 'kanban' 'apis'\n",
      " 'java' 'frameworks' 'oracle' 'mongodb' 'technologies' 'msc'\n",
      " 'architecture' 'certifications' 'soa' 'cloud' 'angularjs' 'selenium'\n",
      " 'nontechnical' 'agile' 'angular' 'scalable' 'scrum' 'tdd' 'postgresql'\n",
      " 'elasticsearch' 'apache' 'aspnet' 'vuejs' 'bsc' 'erp' 'dba' 'laravel'\n",
      " 'visualforce']\n",
      "\n",
      "\n",
      "['kanban' 'scrum' 'jira' 'agile' 'devops' 'erp' 'manager' 'project'\n",
      " 'managing' 'leadership' 'managers' 'projects' 'microservices'\n",
      " 'deliverables' 'sdlc' 'architect' 'leader' 'resume' 'analyst' 'saas'\n",
      " 'frameworks' 'developer' 'consultant' 'competencies' 'tdd'\n",
      " 'collaborative' 'cms' 'msc' 'svn' 'internship' 'workflows'\n",
      " 'independently' 'nonfunctional' 'trainee' 'manage' 'collaborate'\n",
      " 'balsamiq' 'management' 'backend' 'organizational' 'colleagues' 'cv'\n",
      " 'developers' 'salesforce' 'drafting' 'above' 'tasks' 'interpersonal'\n",
      " 'developed' 'independent']\n",
      "\n",
      "\n",
      "['frameworks' 'microservices' 'objectivec' 'ios' 'apis' 'nosql' 'backend'\n",
      " 'devops' 'integrating' 'agile' 'architectures' 'integrate' 'kanban'\n",
      " 'developer' 'restful' 'sdlc' 'developed' 'json' 'integrated' 'android'\n",
      " 'integrations' 'framework' 'balsamiq' 'migration' 'api' 'swift' 'tdd'\n",
      " 'database' 'scrum' 'specialization' 'mvvm' 'fullstack' 'automated' 'ui'\n",
      " 'xamarin' 'integration' 'coding' 'erp' 'versioning' 'msc' 'reactjs'\n",
      " 'interfaces' 'automation' 'ee' 'ux' 'workflows' 'developing' 'adaptable'\n",
      " 'protocols' 'webapi']\n",
      "\n",
      "\n"
     ]
    }
   ],
   "source": [
    "for topic in post_cs_skills_list[:10]:\n",
    "    print(topic)\n",
    "    print(\"\\n\")"
   ]
  },
  {
   "cell_type": "code",
   "execution_count": 39,
   "id": "1ac36d7b",
   "metadata": {},
   "outputs": [],
   "source": [
    "#post_cs_skills_words_stripped = remove_common_words(post_cs_skills_list, 0.3)"
   ]
  },
  {
   "cell_type": "code",
   "execution_count": 15,
   "id": "6d6edac3",
   "metadata": {},
   "outputs": [],
   "source": [
    "topic_sizes, topic_nums = model.get_topic_sizes()"
   ]
  },
  {
   "cell_type": "code",
   "execution_count": 16,
   "id": "b5d4734f",
   "metadata": {},
   "outputs": [
    {
     "data": {
      "text/plain": [
       "array([525, 190, 143, 130, 118, 116, 108, 101,  96,  83,  82,  79,  79,\n",
       "        78,  69,  63,  62,  62,  60,  60,  57,  56,  54,  52,  51,  51,\n",
       "        48,  45,  44,  44,  42,  42,  41,  41,  40,  38,  37,  35,  34,\n",
       "        33,  33,  30,  30,  30,  30,  28,  22,  22,  21,  21,  20,  19,\n",
       "        18,  15], dtype=int64)"
      ]
     },
     "execution_count": 16,
     "metadata": {},
     "output_type": "execute_result"
    }
   ],
   "source": [
    "topic_sizes"
   ]
  },
  {
   "cell_type": "code",
   "execution_count": 17,
   "id": "8257089f",
   "metadata": {},
   "outputs": [
    {
     "data": {
      "text/plain": [
       "array([ 0,  1,  2,  3,  4,  5,  6,  7,  8,  9, 10, 11, 12, 13, 14, 15, 16,\n",
       "       17, 18, 19, 20, 21, 22, 23, 24, 25, 26, 27, 28, 29, 30, 31, 32, 33,\n",
       "       34, 35, 36, 37, 38, 39, 40, 41, 42, 43, 44, 45, 46, 47, 48, 49, 50,\n",
       "       51, 52, 53], dtype=int64)"
      ]
     },
     "execution_count": 17,
     "metadata": {},
     "output_type": "execute_result"
    }
   ],
   "source": [
    "topic_nums"
   ]
  },
  {
   "cell_type": "code",
   "execution_count": 42,
   "id": "3540373f",
   "metadata": {},
   "outputs": [],
   "source": [
    "topic_mapping = model.hierarchical_topic_reduction(num_topics=10)"
   ]
  },
  {
   "cell_type": "code",
   "execution_count": 43,
   "id": "dcdfbbbf",
   "metadata": {},
   "outputs": [],
   "source": [
    "post_cs_topics_reduced_20 = list(topic_mapping)"
   ]
  },
  {
   "cell_type": "markdown",
   "id": "5d31e67b",
   "metadata": {},
   "source": [
    "---"
   ]
  },
  {
   "cell_type": "markdown",
   "id": "d8b9f80e",
   "metadata": {},
   "source": [
    "### Pre Docs"
   ]
  },
  {
   "cell_type": "code",
   "execution_count": 11,
   "id": "c9e00274",
   "metadata": {},
   "outputs": [],
   "source": [
    "pre['start_date'] =  pd.to_datetime(pre['start_date'])"
   ]
  },
  {
   "cell_type": "code",
   "execution_count": 12,
   "id": "3ac6fda3",
   "metadata": {},
   "outputs": [],
   "source": [
    "pre_ = pre[pre['start_date'] > pd.to_datetime(\"2019-11-30\")].copy()"
   ]
  },
  {
   "cell_type": "code",
   "execution_count": 13,
   "id": "832d3395",
   "metadata": {},
   "outputs": [
    {
     "data": {
      "text/plain": [
       "(4121, 7)"
      ]
     },
     "execution_count": 13,
     "metadata": {},
     "output_type": "execute_result"
    }
   ],
   "source": [
    "pre_.shape"
   ]
  },
  {
   "cell_type": "code",
   "execution_count": 14,
   "id": "81e41a5f",
   "metadata": {},
   "outputs": [],
   "source": [
    "pre_topics = pre_.sample(n=3500)"
   ]
  },
  {
   "cell_type": "code",
   "execution_count": 15,
   "id": "0f214680",
   "metadata": {},
   "outputs": [],
   "source": [
    "pre_docs = pre_topics['clean_text'].astype(str)\n",
    "pre_docs = pre_docs.to_numpy()"
   ]
  },
  {
   "cell_type": "code",
   "execution_count": 16,
   "id": "171f74d5",
   "metadata": {},
   "outputs": [
    {
     "name": "stderr",
     "output_type": "stream",
     "text": [
      "2023-01-31 09:47:21,558 - top2vec - INFO - Pre-processing documents for training\n",
      "INFO:top2vec:Pre-processing documents for training\n",
      "C:\\Users\\Merl\\miniconda3\\envs\\adb-test-conda\\lib\\site-packages\\sklearn\\utils\\deprecation.py:87: FutureWarning: Function get_feature_names is deprecated; get_feature_names is deprecated in 1.0 and will be removed in 1.2. Please use get_feature_names_out instead.\n",
      "  warnings.warn(msg, category=FutureWarning)\n",
      "2023-01-31 09:47:23,357 - top2vec - INFO - Downloading universal-sentence-encoder model\n",
      "INFO:top2vec:Downloading universal-sentence-encoder model\n",
      "2023-01-31 09:47:29,532 - top2vec - INFO - Creating joint document/word embedding\n",
      "INFO:top2vec:Creating joint document/word embedding\n",
      "2023-01-31 09:47:32,996 - top2vec - INFO - Creating lower dimension embedding of documents\n",
      "INFO:top2vec:Creating lower dimension embedding of documents\n",
      "2023-01-31 09:47:46,599 - top2vec - INFO - Finding dense areas of documents\n",
      "INFO:top2vec:Finding dense areas of documents\n",
      "2023-01-31 09:47:46,734 - top2vec - INFO - Finding topics\n",
      "INFO:top2vec:Finding topics\n"
     ]
    }
   ],
   "source": [
    "pre_model = Top2Vec(pre_docs, embedding_model='universal-sentence-encoder')"
   ]
  },
  {
   "cell_type": "code",
   "execution_count": 17,
   "id": "4bf80b70",
   "metadata": {},
   "outputs": [
    {
     "data": {
      "text/plain": [
       "56"
      ]
     },
     "execution_count": 17,
     "metadata": {},
     "output_type": "execute_result"
    }
   ],
   "source": [
    "pre_model.get_num_topics()"
   ]
  },
  {
   "cell_type": "code",
   "execution_count": 18,
   "id": "32c6cbf1",
   "metadata": {},
   "outputs": [],
   "source": [
    "pre_cs_skills_list =  list(pre_model.topic_words)"
   ]
  },
  {
   "cell_type": "code",
   "execution_count": 19,
   "id": "daf9c822",
   "metadata": {},
   "outputs": [
    {
     "name": "stdout",
     "output_type": "stream",
     "text": [
      "['devops' 'fintech' 'microservices' 'backend' 'saas' 'agile' 'scrum' 'erp'\n",
      " 'coding' 'frontend' 'fullstack' 'nosql' 'ux' 'frameworks' 'developer'\n",
      " 'analyst' 'cms' 'php' 'crm' 'certifications' 'reactjs' 'developing'\n",
      " 'nontechnical' 'jira' 'developed' 'selenium' 'jmeter' 'developers'\n",
      " 'technologies' 'apis' 'architect' 'angular' 'develop' 'laravel'\n",
      " 'competencies' 'msc' 'html' 'engineer' 'angularjs' 'intern' 'aspnet'\n",
      " 'architectures' 'deliverables' 'api' 'analytical' 'managerial' 'jquery'\n",
      " 'sap' 'oauth' 'ui']\n",
      "\n",
      "\n",
      "['microservices' 'devops' 'nosql' 'backend' 'fullstack' 'saas' 'fintech'\n",
      " 'reactjs' 'frameworks' 'agile' 'aspnet' 'frontend' 'scrum' 'java'\n",
      " 'nodejs' 'coding' 'angularjs' 'angular' 'mvc' 'weblogic' 'php'\n",
      " 'architectures' 'jmeter' 'erp' 'cms' 'kubernetes' 'apis' 'laravel'\n",
      " 'webapi' 'jira' 'html' 'selenium' 'technologies' 'oracle' 'web'\n",
      " 'architecture' 'ux' 'net' 'developer' 'javascript' 'azure'\n",
      " 'certifications' 'css' 'msc' 'nontechnical' 'sql' 'dba' 'analyst'\n",
      " 'developing' 'oauth']\n",
      "\n",
      "\n",
      "['selenium' 'devops' 'jmeter' 'agile' 'testing' 'scrum' 'tests' 'qa'\n",
      " 'certifications' 'fintech' 'test' 'certified' 'erp' 'analytical'\n",
      " 'engineer' 'jira' 'automation' 'uat' 'coding' 'saas' 'developed'\n",
      " 'analyst' 'microservices' 'automated' 'software' 'certification' 'ux'\n",
      " 'architect' 'developing' 'jenkins' 'analytics' 'developer' 'engineering'\n",
      " 'pm' 'engineers' 'rpa' 'frontend' 'indesign' 'competencies' 'ui' 'msc'\n",
      " 'lankan' 'weblogic' 'nontechnical' 'backend' 'api' 'methodology'\n",
      " 'deliverables' 'develop' 'fullstack']\n",
      "\n",
      "\n",
      "['indesign' 'illustrator' 'designing' 'designers' 'designer'\n",
      " 'qualification' 'graphics' 'portfolio' 'applicants' 'design'\n",
      " 'qualifications' 'cv' 'competencies' 'graphic' 'adobe' 'resume'\n",
      " 'applying' 'apply' 'hiring' 'photoshop' 'ux' 'ict' 'fintech' 'skills'\n",
      " 'coding' 'skilled' 'designed' 'msc' 'bsc' 'eligibility' 'developing'\n",
      " 'architect' 'recruitment' 'vacancies' 'applied' 'agile' 'designs'\n",
      " 'deliverables' 'sinhala' 'trainee' 'proficient' 'internship' 'develop'\n",
      " 'modeling' 'diploma' 'workflows' 'communications' 'saas' 'scrum' 'ui']\n",
      "\n",
      "\n",
      "['erp' 'fintech' 'msc' 'crm' 'qualification' 'resume' 'analyst'\n",
      " 'managerial' 'sinhala' 'scrum' 'qualifications' 'devops' 'certifications'\n",
      " 'ict' 'lanka' 'lankan' 'multinational' 'degree' 'cv' 'entity' 'bsc' 'sap'\n",
      " 'saas' 'pm' 'galle' 'agile' 'dba' 'consultant' 'shortlisted' 'graduates'\n",
      " 'jira' 'intern' 'microservices' 'communications' 'ssrs' 'competencies'\n",
      " 'interpersonal' 'analytical' 'oracle' 'frontend' 'weblogic'\n",
      " 'headquartered' 'capable' 'backend' 'firm' 'eligibility' 'ux' 'managing'\n",
      " 'selenium' 'deliverables']\n",
      "\n",
      "\n",
      "['ee' 'fintech' 'eee' 'ue' 'engineer' 'ae' 'application' 'erp' 'sap' 'cv'\n",
      " 'msc' 'ey' 'cms' 'applied' 'pe' 'unit' 'collaborate' 'apply' 'deploy'\n",
      " 'dba' 'applying' 'cae' 'engineers' 'uat' 'cee' 'qa' 'eu' 'internship'\n",
      " 'ec' 'engineering' 'te' 'electronic' 'devops' 'collaborating' 'ict'\n",
      " 'certifications' 'rpa' 'software' 'weblogic' 'throughout' 'analyst'\n",
      " 'module' 'saas' 'oracle' 'java' 'api' 'keen' 'degree' 'modules' 'resume']\n",
      "\n",
      "\n",
      "['scrum' 'agile' 'jira' 'devops' 'erp' 'managerial' 'microservices'\n",
      " 'managing' 'deliverables' 'manager' 'architect' 'fintech' 'saas'\n",
      " 'analyst' 'consultant' 'svn' 'crm' 'collaborative' 'developer'\n",
      " 'workflows' 'colleagues' 'pm' 'project' 'leadership' 'workflow'\n",
      " 'managers' 'intern' 'cms' 'developers' 'leader' 'backend' 'productivity'\n",
      " 'oauth' 'frameworks' 'teamwork' 'projects' 'resume' 'ux' 'independently'\n",
      " 'collaborate' 'analytical' 'trainee' 'ssrs' 'competencies'\n",
      " 'organizational' 'msc' 'assistant' 'collaborating' 'deadlines'\n",
      " 'internship']\n",
      "\n",
      "\n",
      "['ux' 'fullstack' 'frontend' 'coding' 'responsive' 'devops' 'html' 'agile'\n",
      " 'fintech' 'backend' 'ui' 'designers' 'designing' 'jquery' 'reactjs'\n",
      " 'frameworks' 'css' 'developer' 'designer' 'cms' 'microservices' 'web'\n",
      " 'angular' 'angularjs' 'ecommerce' 'scrum' 'design' 'saas' 'javascript'\n",
      " 'bootstrap' 'developers' 'php' 'developing' 'selenium' 'develop'\n",
      " 'indesign' 'architect' 'aspnet' 'developed' 'laravel' 'wordpress'\n",
      " 'competencies' 'technologies' 'jmeter' 'interfaces' 'development'\n",
      " 'portfolio' 'ajax' 'mvc' 'nontechnical']\n",
      "\n",
      "\n",
      "['devops' 'microservices' 'kubernetes' 'nosql' 'docker' 'saas' 'aws'\n",
      " 'backend' 'weblogic' 'fintech' 'jira' 'azure' 'architectures'\n",
      " 'certifications' 'deploy' 'cloud' 'frontend' 'jmeter' 'oracle' 'nodejs'\n",
      " 'fullstack' 'dba' 'deployment' 'nontechnical' 'reactjs' 'erp' 'mongodb'\n",
      " 'frameworks' 'analyst' 'backups' 'jenkins' 'unix' 'workflow' 'msc'\n",
      " 'postgresql' 'git' 'mysql' 'certification' 'certified' 'linux' 'svn'\n",
      " 'php' 'architecture' 'workflows' 'cms' 'scrum' 'managing' 'selenium'\n",
      " 'apache' 'agile']\n",
      "\n",
      "\n",
      "['microservices' 'developer' 'fintech' 'developers' 'devops' 'coding'\n",
      " 'apis' 'android' 'ios' 'architectures' 'frameworks' 'ux' 'developing'\n",
      " 'backend' 'fullstack' 'developed' 'develop' 'scrum' 'nosql' 'app' 'saas'\n",
      " 'agile' 'oauth' 'reactjs' 'apps' 'api' 'development' 'application'\n",
      " 'internship' 'ui' 'java' 'technologies' 'swift' 'native' 'frontend'\n",
      " 'applications' 'applying' 'intern' 'workflows' 'languages' 'integrating'\n",
      " 'workflow' 'programming' 'ee' 'selenium' 'silicon' 'nontechnical'\n",
      " 'analyst' 'framework' 'jmeter']\n",
      "\n",
      "\n"
     ]
    }
   ],
   "source": [
    "for topic in pre_cs_skills_list[:10]:\n",
    "    print(topic)\n",
    "    print(\"\\n\")"
   ]
  },
  {
   "cell_type": "code",
   "execution_count": 23,
   "id": "ec44310e",
   "metadata": {},
   "outputs": [],
   "source": [
    "pre_topic_mapping = pre_model.hierarchical_topic_reduction(num_topics=20)"
   ]
  },
  {
   "cell_type": "code",
   "execution_count": 24,
   "id": "ef3ec9f3",
   "metadata": {},
   "outputs": [
    {
     "data": {
      "text/plain": [
       "array(['scrum', 'erp', 'devops', 'agile', 'jira', 'fintech',\n",
       "       'microservices', 'analyst', 'saas', 'sdlc', 'ux', 'crm',\n",
       "       'managerial', 'consultant', 'deliverables', 'analytical',\n",
       "       'backend', 'tdd', 'cms', 'architect', 'pm', 'nosql', 'managing',\n",
       "       'manager', 'workflows', 'frontend', 'developer', 'nontechnical',\n",
       "       'consultants', 'developers', 'intern', 'frameworks', 'ssrs',\n",
       "       'coding', 'oauth', 'collaborative', 'above', 'msc', 'developed',\n",
       "       'indesign', 'assistant', 'resume', 'task', 'apis', 'colleagues',\n",
       "       'competencies', 'developing', 'analytics', 'reactjs', 'jmeter'],\n",
       "      dtype='<U14')"
      ]
     },
     "execution_count": 24,
     "metadata": {},
     "output_type": "execute_result"
    }
   ],
   "source": [
    "pre_model.topic_words_reduced[1]"
   ]
  },
  {
   "cell_type": "code",
   "execution_count": null,
   "id": "1b5b3288",
   "metadata": {},
   "outputs": [],
   "source": []
  }
 ],
 "metadata": {
  "hide_input": false,
  "kernelspec": {
   "display_name": "Python 3",
   "language": "python",
   "name": "python3"
  },
  "language_info": {
   "codemirror_mode": {
    "name": "ipython",
    "version": 3
   },
   "file_extension": ".py",
   "mimetype": "text/x-python",
   "name": "python",
   "nbconvert_exporter": "python",
   "pygments_lexer": "ipython3",
   "version": "3.8.13"
  }
 },
 "nbformat": 4,
 "nbformat_minor": 5
}
